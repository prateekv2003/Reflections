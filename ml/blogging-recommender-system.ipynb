{
 "cells": [
  {
   "cell_type": "code",
   "execution_count": 1,
   "metadata": {
    "_cell_guid": "b1076dfc-b9ad-4769-8c92-a6c4dae69d19",
    "_uuid": "8f2839f25d086af736a60e9eeb907d3b93b6e0e5",
    "execution": {
     "iopub.execute_input": "2023-01-18T03:55:21.982488Z",
     "iopub.status.busy": "2023-01-18T03:55:21.981931Z",
     "iopub.status.idle": "2023-01-18T03:55:21.990234Z",
     "shell.execute_reply": "2023-01-18T03:55:21.988868Z",
     "shell.execute_reply.started": "2023-01-18T03:55:21.982413Z"
    }
   },
   "outputs": [
    {
     "ename": "ModuleNotFoundError",
     "evalue": "No module named 'plotly'",
     "output_type": "error",
     "traceback": [
      "\u001b[1;31m---------------------------------------------------------------------------\u001b[0m",
      "\u001b[1;31mModuleNotFoundError\u001b[0m                       Traceback (most recent call last)",
      "\u001b[1;32m~\\AppData\\Local\\Temp/ipykernel_18024/2133066463.py\u001b[0m in \u001b[0;36m<module>\u001b[1;34m\u001b[0m\n\u001b[0;32m      2\u001b[0m \u001b[1;32mimport\u001b[0m \u001b[0mpandas\u001b[0m \u001b[1;32mas\u001b[0m \u001b[0mpd\u001b[0m \u001b[1;31m# data processing, CSV file I/O (e.g. pd.read_csv)\u001b[0m\u001b[1;33m\u001b[0m\u001b[1;33m\u001b[0m\u001b[0m\n\u001b[0;32m      3\u001b[0m \u001b[1;32mimport\u001b[0m \u001b[0mos\u001b[0m\u001b[1;33m\u001b[0m\u001b[1;33m\u001b[0m\u001b[0m\n\u001b[1;32m----> 4\u001b[1;33m \u001b[1;32mimport\u001b[0m \u001b[0mplotly\u001b[0m\u001b[1;33m.\u001b[0m\u001b[0mexpress\u001b[0m \u001b[1;32mas\u001b[0m \u001b[0mpx\u001b[0m\u001b[1;33m\u001b[0m\u001b[1;33m\u001b[0m\u001b[0m\n\u001b[0m\u001b[0;32m      5\u001b[0m \u001b[1;32mfrom\u001b[0m \u001b[0mcollections\u001b[0m \u001b[1;32mimport\u001b[0m \u001b[0mCounter\u001b[0m\u001b[1;33m\u001b[0m\u001b[1;33m\u001b[0m\u001b[0m\n\u001b[0;32m      6\u001b[0m \u001b[1;31m# from gensim.models import Word2Vec, KeyedVectors\u001b[0m\u001b[1;33m\u001b[0m\u001b[1;33m\u001b[0m\u001b[0m\n",
      "\u001b[1;31mModuleNotFoundError\u001b[0m: No module named 'plotly'"
     ]
    }
   ],
   "source": [
    "import numpy as np # linear algebra\n",
    "import pandas as pd # data processing, CSV file I/O (e.g. pd.read_csv)\n",
    "import os\n",
    "import plotly.express as px\n",
    "from collections import Counter\n",
    "# from gensim.models import Word2Vec, KeyedVectors"
   ]
  },
  {
   "cell_type": "code",
   "execution_count": 2,
   "metadata": {
    "execution": {
     "iopub.execute_input": "2023-01-18T03:55:24.987426Z",
     "iopub.status.busy": "2023-01-18T03:55:24.986716Z",
     "iopub.status.idle": "2023-01-18T03:55:44.595500Z",
     "shell.execute_reply": "2023-01-18T03:55:44.594302Z",
     "shell.execute_reply.started": "2023-01-18T03:55:24.987371Z"
    }
   },
   "outputs": [
    {
     "ename": "FileNotFoundError",
     "evalue": "[Errno 2] No such file or directory: 'medium_articles.csv'",
     "output_type": "error",
     "traceback": [
      "\u001b[1;31m---------------------------------------------------------------------------\u001b[0m",
      "\u001b[1;31mFileNotFoundError\u001b[0m                         Traceback (most recent call last)",
      "\u001b[1;32m~\\AppData\\Local\\Temp/ipykernel_18024/2907319410.py\u001b[0m in \u001b[0;36m<module>\u001b[1;34m\u001b[0m\n\u001b[1;32m----> 1\u001b[1;33m \u001b[0mdf\u001b[0m \u001b[1;33m=\u001b[0m \u001b[0mpd\u001b[0m\u001b[1;33m.\u001b[0m\u001b[0mread_csv\u001b[0m\u001b[1;33m(\u001b[0m\u001b[1;34m\"medium_articles.csv\"\u001b[0m\u001b[1;33m)\u001b[0m\u001b[1;33m\u001b[0m\u001b[1;33m\u001b[0m\u001b[0m\n\u001b[0m",
      "\u001b[1;32m~\\anaconda3\\lib\\site-packages\\pandas\\util\\_decorators.py\u001b[0m in \u001b[0;36mwrapper\u001b[1;34m(*args, **kwargs)\u001b[0m\n\u001b[0;32m    309\u001b[0m                     \u001b[0mstacklevel\u001b[0m\u001b[1;33m=\u001b[0m\u001b[0mstacklevel\u001b[0m\u001b[1;33m,\u001b[0m\u001b[1;33m\u001b[0m\u001b[1;33m\u001b[0m\u001b[0m\n\u001b[0;32m    310\u001b[0m                 )\n\u001b[1;32m--> 311\u001b[1;33m             \u001b[1;32mreturn\u001b[0m \u001b[0mfunc\u001b[0m\u001b[1;33m(\u001b[0m\u001b[1;33m*\u001b[0m\u001b[0margs\u001b[0m\u001b[1;33m,\u001b[0m \u001b[1;33m**\u001b[0m\u001b[0mkwargs\u001b[0m\u001b[1;33m)\u001b[0m\u001b[1;33m\u001b[0m\u001b[1;33m\u001b[0m\u001b[0m\n\u001b[0m\u001b[0;32m    312\u001b[0m \u001b[1;33m\u001b[0m\u001b[0m\n\u001b[0;32m    313\u001b[0m         \u001b[1;32mreturn\u001b[0m \u001b[0mwrapper\u001b[0m\u001b[1;33m\u001b[0m\u001b[1;33m\u001b[0m\u001b[0m\n",
      "\u001b[1;32m~\\anaconda3\\lib\\site-packages\\pandas\\io\\parsers\\readers.py\u001b[0m in \u001b[0;36mread_csv\u001b[1;34m(filepath_or_buffer, sep, delimiter, header, names, index_col, usecols, squeeze, prefix, mangle_dupe_cols, dtype, engine, converters, true_values, false_values, skipinitialspace, skiprows, skipfooter, nrows, na_values, keep_default_na, na_filter, verbose, skip_blank_lines, parse_dates, infer_datetime_format, keep_date_col, date_parser, dayfirst, cache_dates, iterator, chunksize, compression, thousands, decimal, lineterminator, quotechar, quoting, doublequote, escapechar, comment, encoding, encoding_errors, dialect, error_bad_lines, warn_bad_lines, on_bad_lines, delim_whitespace, low_memory, memory_map, float_precision, storage_options)\u001b[0m\n\u001b[0;32m    584\u001b[0m     \u001b[0mkwds\u001b[0m\u001b[1;33m.\u001b[0m\u001b[0mupdate\u001b[0m\u001b[1;33m(\u001b[0m\u001b[0mkwds_defaults\u001b[0m\u001b[1;33m)\u001b[0m\u001b[1;33m\u001b[0m\u001b[1;33m\u001b[0m\u001b[0m\n\u001b[0;32m    585\u001b[0m \u001b[1;33m\u001b[0m\u001b[0m\n\u001b[1;32m--> 586\u001b[1;33m     \u001b[1;32mreturn\u001b[0m \u001b[0m_read\u001b[0m\u001b[1;33m(\u001b[0m\u001b[0mfilepath_or_buffer\u001b[0m\u001b[1;33m,\u001b[0m \u001b[0mkwds\u001b[0m\u001b[1;33m)\u001b[0m\u001b[1;33m\u001b[0m\u001b[1;33m\u001b[0m\u001b[0m\n\u001b[0m\u001b[0;32m    587\u001b[0m \u001b[1;33m\u001b[0m\u001b[0m\n\u001b[0;32m    588\u001b[0m \u001b[1;33m\u001b[0m\u001b[0m\n",
      "\u001b[1;32m~\\anaconda3\\lib\\site-packages\\pandas\\io\\parsers\\readers.py\u001b[0m in \u001b[0;36m_read\u001b[1;34m(filepath_or_buffer, kwds)\u001b[0m\n\u001b[0;32m    480\u001b[0m \u001b[1;33m\u001b[0m\u001b[0m\n\u001b[0;32m    481\u001b[0m     \u001b[1;31m# Create the parser.\u001b[0m\u001b[1;33m\u001b[0m\u001b[1;33m\u001b[0m\u001b[0m\n\u001b[1;32m--> 482\u001b[1;33m     \u001b[0mparser\u001b[0m \u001b[1;33m=\u001b[0m \u001b[0mTextFileReader\u001b[0m\u001b[1;33m(\u001b[0m\u001b[0mfilepath_or_buffer\u001b[0m\u001b[1;33m,\u001b[0m \u001b[1;33m**\u001b[0m\u001b[0mkwds\u001b[0m\u001b[1;33m)\u001b[0m\u001b[1;33m\u001b[0m\u001b[1;33m\u001b[0m\u001b[0m\n\u001b[0m\u001b[0;32m    483\u001b[0m \u001b[1;33m\u001b[0m\u001b[0m\n\u001b[0;32m    484\u001b[0m     \u001b[1;32mif\u001b[0m \u001b[0mchunksize\u001b[0m \u001b[1;32mor\u001b[0m \u001b[0miterator\u001b[0m\u001b[1;33m:\u001b[0m\u001b[1;33m\u001b[0m\u001b[1;33m\u001b[0m\u001b[0m\n",
      "\u001b[1;32m~\\anaconda3\\lib\\site-packages\\pandas\\io\\parsers\\readers.py\u001b[0m in \u001b[0;36m__init__\u001b[1;34m(self, f, engine, **kwds)\u001b[0m\n\u001b[0;32m    809\u001b[0m             \u001b[0mself\u001b[0m\u001b[1;33m.\u001b[0m\u001b[0moptions\u001b[0m\u001b[1;33m[\u001b[0m\u001b[1;34m\"has_index_names\"\u001b[0m\u001b[1;33m]\u001b[0m \u001b[1;33m=\u001b[0m \u001b[0mkwds\u001b[0m\u001b[1;33m[\u001b[0m\u001b[1;34m\"has_index_names\"\u001b[0m\u001b[1;33m]\u001b[0m\u001b[1;33m\u001b[0m\u001b[1;33m\u001b[0m\u001b[0m\n\u001b[0;32m    810\u001b[0m \u001b[1;33m\u001b[0m\u001b[0m\n\u001b[1;32m--> 811\u001b[1;33m         \u001b[0mself\u001b[0m\u001b[1;33m.\u001b[0m\u001b[0m_engine\u001b[0m \u001b[1;33m=\u001b[0m \u001b[0mself\u001b[0m\u001b[1;33m.\u001b[0m\u001b[0m_make_engine\u001b[0m\u001b[1;33m(\u001b[0m\u001b[0mself\u001b[0m\u001b[1;33m.\u001b[0m\u001b[0mengine\u001b[0m\u001b[1;33m)\u001b[0m\u001b[1;33m\u001b[0m\u001b[1;33m\u001b[0m\u001b[0m\n\u001b[0m\u001b[0;32m    812\u001b[0m \u001b[1;33m\u001b[0m\u001b[0m\n\u001b[0;32m    813\u001b[0m     \u001b[1;32mdef\u001b[0m \u001b[0mclose\u001b[0m\u001b[1;33m(\u001b[0m\u001b[0mself\u001b[0m\u001b[1;33m)\u001b[0m\u001b[1;33m:\u001b[0m\u001b[1;33m\u001b[0m\u001b[1;33m\u001b[0m\u001b[0m\n",
      "\u001b[1;32m~\\anaconda3\\lib\\site-packages\\pandas\\io\\parsers\\readers.py\u001b[0m in \u001b[0;36m_make_engine\u001b[1;34m(self, engine)\u001b[0m\n\u001b[0;32m   1038\u001b[0m             )\n\u001b[0;32m   1039\u001b[0m         \u001b[1;31m# error: Too many arguments for \"ParserBase\"\u001b[0m\u001b[1;33m\u001b[0m\u001b[1;33m\u001b[0m\u001b[0m\n\u001b[1;32m-> 1040\u001b[1;33m         \u001b[1;32mreturn\u001b[0m \u001b[0mmapping\u001b[0m\u001b[1;33m[\u001b[0m\u001b[0mengine\u001b[0m\u001b[1;33m]\u001b[0m\u001b[1;33m(\u001b[0m\u001b[0mself\u001b[0m\u001b[1;33m.\u001b[0m\u001b[0mf\u001b[0m\u001b[1;33m,\u001b[0m \u001b[1;33m**\u001b[0m\u001b[0mself\u001b[0m\u001b[1;33m.\u001b[0m\u001b[0moptions\u001b[0m\u001b[1;33m)\u001b[0m  \u001b[1;31m# type: ignore[call-arg]\u001b[0m\u001b[1;33m\u001b[0m\u001b[1;33m\u001b[0m\u001b[0m\n\u001b[0m\u001b[0;32m   1041\u001b[0m \u001b[1;33m\u001b[0m\u001b[0m\n\u001b[0;32m   1042\u001b[0m     \u001b[1;32mdef\u001b[0m \u001b[0m_failover_to_python\u001b[0m\u001b[1;33m(\u001b[0m\u001b[0mself\u001b[0m\u001b[1;33m)\u001b[0m\u001b[1;33m:\u001b[0m\u001b[1;33m\u001b[0m\u001b[1;33m\u001b[0m\u001b[0m\n",
      "\u001b[1;32m~\\anaconda3\\lib\\site-packages\\pandas\\io\\parsers\\c_parser_wrapper.py\u001b[0m in \u001b[0;36m__init__\u001b[1;34m(self, src, **kwds)\u001b[0m\n\u001b[0;32m     49\u001b[0m \u001b[1;33m\u001b[0m\u001b[0m\n\u001b[0;32m     50\u001b[0m         \u001b[1;31m# open handles\u001b[0m\u001b[1;33m\u001b[0m\u001b[1;33m\u001b[0m\u001b[0m\n\u001b[1;32m---> 51\u001b[1;33m         \u001b[0mself\u001b[0m\u001b[1;33m.\u001b[0m\u001b[0m_open_handles\u001b[0m\u001b[1;33m(\u001b[0m\u001b[0msrc\u001b[0m\u001b[1;33m,\u001b[0m \u001b[0mkwds\u001b[0m\u001b[1;33m)\u001b[0m\u001b[1;33m\u001b[0m\u001b[1;33m\u001b[0m\u001b[0m\n\u001b[0m\u001b[0;32m     52\u001b[0m         \u001b[1;32massert\u001b[0m \u001b[0mself\u001b[0m\u001b[1;33m.\u001b[0m\u001b[0mhandles\u001b[0m \u001b[1;32mis\u001b[0m \u001b[1;32mnot\u001b[0m \u001b[1;32mNone\u001b[0m\u001b[1;33m\u001b[0m\u001b[1;33m\u001b[0m\u001b[0m\n\u001b[0;32m     53\u001b[0m \u001b[1;33m\u001b[0m\u001b[0m\n",
      "\u001b[1;32m~\\anaconda3\\lib\\site-packages\\pandas\\io\\parsers\\base_parser.py\u001b[0m in \u001b[0;36m_open_handles\u001b[1;34m(self, src, kwds)\u001b[0m\n\u001b[0;32m    220\u001b[0m         \u001b[0mLet\u001b[0m \u001b[0mthe\u001b[0m \u001b[0mreaders\u001b[0m \u001b[0mopen\u001b[0m \u001b[0mIOHandles\u001b[0m \u001b[0mafter\u001b[0m \u001b[0mthey\u001b[0m \u001b[0mare\u001b[0m \u001b[0mdone\u001b[0m \u001b[1;32mwith\u001b[0m \u001b[0mtheir\u001b[0m \u001b[0mpotential\u001b[0m \u001b[0mraises\u001b[0m\u001b[1;33m.\u001b[0m\u001b[1;33m\u001b[0m\u001b[1;33m\u001b[0m\u001b[0m\n\u001b[0;32m    221\u001b[0m         \"\"\"\n\u001b[1;32m--> 222\u001b[1;33m         self.handles = get_handle(\n\u001b[0m\u001b[0;32m    223\u001b[0m             \u001b[0msrc\u001b[0m\u001b[1;33m,\u001b[0m\u001b[1;33m\u001b[0m\u001b[1;33m\u001b[0m\u001b[0m\n\u001b[0;32m    224\u001b[0m             \u001b[1;34m\"r\"\u001b[0m\u001b[1;33m,\u001b[0m\u001b[1;33m\u001b[0m\u001b[1;33m\u001b[0m\u001b[0m\n",
      "\u001b[1;32m~\\anaconda3\\lib\\site-packages\\pandas\\io\\common.py\u001b[0m in \u001b[0;36mget_handle\u001b[1;34m(path_or_buf, mode, encoding, compression, memory_map, is_text, errors, storage_options)\u001b[0m\n\u001b[0;32m    700\u001b[0m         \u001b[1;32mif\u001b[0m \u001b[0mioargs\u001b[0m\u001b[1;33m.\u001b[0m\u001b[0mencoding\u001b[0m \u001b[1;32mand\u001b[0m \u001b[1;34m\"b\"\u001b[0m \u001b[1;32mnot\u001b[0m \u001b[1;32min\u001b[0m \u001b[0mioargs\u001b[0m\u001b[1;33m.\u001b[0m\u001b[0mmode\u001b[0m\u001b[1;33m:\u001b[0m\u001b[1;33m\u001b[0m\u001b[1;33m\u001b[0m\u001b[0m\n\u001b[0;32m    701\u001b[0m             \u001b[1;31m# Encoding\u001b[0m\u001b[1;33m\u001b[0m\u001b[1;33m\u001b[0m\u001b[0m\n\u001b[1;32m--> 702\u001b[1;33m             handle = open(\n\u001b[0m\u001b[0;32m    703\u001b[0m                 \u001b[0mhandle\u001b[0m\u001b[1;33m,\u001b[0m\u001b[1;33m\u001b[0m\u001b[1;33m\u001b[0m\u001b[0m\n\u001b[0;32m    704\u001b[0m                 \u001b[0mioargs\u001b[0m\u001b[1;33m.\u001b[0m\u001b[0mmode\u001b[0m\u001b[1;33m,\u001b[0m\u001b[1;33m\u001b[0m\u001b[1;33m\u001b[0m\u001b[0m\n",
      "\u001b[1;31mFileNotFoundError\u001b[0m: [Errno 2] No such file or directory: 'medium_articles.csv'"
     ]
    }
   ],
   "source": [
    "df = pd.read_csv(\"medium_articles.csv\")"
   ]
  },
  {
   "cell_type": "code",
   "execution_count": 4,
   "metadata": {
    "execution": {
     "iopub.execute_input": "2023-01-18T03:55:44.598124Z",
     "iopub.status.busy": "2023-01-18T03:55:44.597712Z",
     "iopub.status.idle": "2023-01-18T03:55:44.621783Z",
     "shell.execute_reply": "2023-01-18T03:55:44.620304Z",
     "shell.execute_reply.started": "2023-01-18T03:55:44.598088Z"
    }
   },
   "outputs": [
    {
     "data": {
      "text/html": [
       "<div>\n",
       "<style scoped>\n",
       "    .dataframe tbody tr th:only-of-type {\n",
       "        vertical-align: middle;\n",
       "    }\n",
       "\n",
       "    .dataframe tbody tr th {\n",
       "        vertical-align: top;\n",
       "    }\n",
       "\n",
       "    .dataframe thead th {\n",
       "        text-align: right;\n",
       "    }\n",
       "</style>\n",
       "<table border=\"1\" class=\"dataframe\">\n",
       "  <thead>\n",
       "    <tr style=\"text-align: right;\">\n",
       "      <th></th>\n",
       "      <th>title</th>\n",
       "      <th>text</th>\n",
       "      <th>url</th>\n",
       "      <th>authors</th>\n",
       "      <th>timestamp</th>\n",
       "      <th>tags</th>\n",
       "    </tr>\n",
       "  </thead>\n",
       "  <tbody>\n",
       "    <tr>\n",
       "      <th>0</th>\n",
       "      <td>Mental Note Vol. 24</td>\n",
       "      <td>Photo by Josh Riemer on Unsplash\\n\\nMerry Chri...</td>\n",
       "      <td>https://medium.com/invisible-illness/mental-no...</td>\n",
       "      <td>['Ryan Fan']</td>\n",
       "      <td>2020-12-26 03:38:10.479000+00:00</td>\n",
       "      <td>['Mental Health', 'Health', 'Psychology', 'Sci...</td>\n",
       "    </tr>\n",
       "    <tr>\n",
       "      <th>1</th>\n",
       "      <td>Your Brain On Coronavirus</td>\n",
       "      <td>Your Brain On Coronavirus\\n\\nA guide to the cu...</td>\n",
       "      <td>https://medium.com/age-of-awareness/how-the-pa...</td>\n",
       "      <td>['Simon Spichak']</td>\n",
       "      <td>2020-09-23 22:10:17.126000+00:00</td>\n",
       "      <td>['Mental Health', 'Coronavirus', 'Science', 'P...</td>\n",
       "    </tr>\n",
       "    <tr>\n",
       "      <th>2</th>\n",
       "      <td>Mind Your Nose</td>\n",
       "      <td>Mind Your Nose\\n\\nHow smell training can chang...</td>\n",
       "      <td>https://medium.com/neodotlife/mind-your-nose-f...</td>\n",
       "      <td>[]</td>\n",
       "      <td>2020-10-10 20:17:37.132000+00:00</td>\n",
       "      <td>['Biotechnology', 'Neuroscience', 'Brain', 'We...</td>\n",
       "    </tr>\n",
       "    <tr>\n",
       "      <th>3</th>\n",
       "      <td>The 4 Purposes of Dreams</td>\n",
       "      <td>Passionate about the synergy between science a...</td>\n",
       "      <td>https://medium.com/science-for-real/the-4-purp...</td>\n",
       "      <td>['Eshan Samaranayake']</td>\n",
       "      <td>2020-12-21 16:05:19.524000+00:00</td>\n",
       "      <td>['Health', 'Neuroscience', 'Mental Health', 'P...</td>\n",
       "    </tr>\n",
       "    <tr>\n",
       "      <th>4</th>\n",
       "      <td>Surviving a Rod Through the Head</td>\n",
       "      <td>You’ve heard of him, haven’t you? Phineas Gage...</td>\n",
       "      <td>https://medium.com/live-your-life-on-purpose/s...</td>\n",
       "      <td>['Rishav Sinha']</td>\n",
       "      <td>2020-02-26 00:01:01.576000+00:00</td>\n",
       "      <td>['Brain', 'Health', 'Development', 'Psychology...</td>\n",
       "    </tr>\n",
       "  </tbody>\n",
       "</table>\n",
       "</div>"
      ],
      "text/plain": [
       "                              title  \\\n",
       "0               Mental Note Vol. 24   \n",
       "1         Your Brain On Coronavirus   \n",
       "2                    Mind Your Nose   \n",
       "3          The 4 Purposes of Dreams   \n",
       "4  Surviving a Rod Through the Head   \n",
       "\n",
       "                                                text  \\\n",
       "0  Photo by Josh Riemer on Unsplash\\n\\nMerry Chri...   \n",
       "1  Your Brain On Coronavirus\\n\\nA guide to the cu...   \n",
       "2  Mind Your Nose\\n\\nHow smell training can chang...   \n",
       "3  Passionate about the synergy between science a...   \n",
       "4  You’ve heard of him, haven’t you? Phineas Gage...   \n",
       "\n",
       "                                                 url                 authors  \\\n",
       "0  https://medium.com/invisible-illness/mental-no...            ['Ryan Fan']   \n",
       "1  https://medium.com/age-of-awareness/how-the-pa...       ['Simon Spichak']   \n",
       "2  https://medium.com/neodotlife/mind-your-nose-f...                      []   \n",
       "3  https://medium.com/science-for-real/the-4-purp...  ['Eshan Samaranayake']   \n",
       "4  https://medium.com/live-your-life-on-purpose/s...        ['Rishav Sinha']   \n",
       "\n",
       "                          timestamp  \\\n",
       "0  2020-12-26 03:38:10.479000+00:00   \n",
       "1  2020-09-23 22:10:17.126000+00:00   \n",
       "2  2020-10-10 20:17:37.132000+00:00   \n",
       "3  2020-12-21 16:05:19.524000+00:00   \n",
       "4  2020-02-26 00:01:01.576000+00:00   \n",
       "\n",
       "                                                tags  \n",
       "0  ['Mental Health', 'Health', 'Psychology', 'Sci...  \n",
       "1  ['Mental Health', 'Coronavirus', 'Science', 'P...  \n",
       "2  ['Biotechnology', 'Neuroscience', 'Brain', 'We...  \n",
       "3  ['Health', 'Neuroscience', 'Mental Health', 'P...  \n",
       "4  ['Brain', 'Health', 'Development', 'Psychology...  "
      ]
     },
     "execution_count": 4,
     "metadata": {},
     "output_type": "execute_result"
    }
   ],
   "source": [
    "df.head()"
   ]
  },
  {
   "cell_type": "code",
   "execution_count": 5,
   "metadata": {
    "execution": {
     "iopub.execute_input": "2023-01-18T03:55:44.625965Z",
     "iopub.status.busy": "2023-01-18T03:55:44.625387Z",
     "iopub.status.idle": "2023-01-18T03:55:44.640962Z",
     "shell.execute_reply": "2023-01-18T03:55:44.639472Z",
     "shell.execute_reply.started": "2023-01-18T03:55:44.625921Z"
    }
   },
   "outputs": [
    {
     "data": {
      "text/plain": [
       "(192368, 6)"
      ]
     },
     "execution_count": 5,
     "metadata": {},
     "output_type": "execute_result"
    }
   ],
   "source": [
    "df.shape"
   ]
  },
  {
   "cell_type": "code",
   "execution_count": 6,
   "metadata": {
    "execution": {
     "iopub.execute_input": "2023-01-18T03:55:44.644958Z",
     "iopub.status.busy": "2023-01-18T03:55:44.644471Z",
     "iopub.status.idle": "2023-01-18T03:55:44.749671Z",
     "shell.execute_reply": "2023-01-18T03:55:44.748031Z",
     "shell.execute_reply.started": "2023-01-18T03:55:44.644901Z"
    }
   },
   "outputs": [
    {
     "data": {
      "text/plain": [
       "title        5\n",
       "text         0\n",
       "url          0\n",
       "authors      0\n",
       "timestamp    2\n",
       "tags         0\n",
       "dtype: int64"
      ]
     },
     "execution_count": 6,
     "metadata": {},
     "output_type": "execute_result"
    }
   ],
   "source": [
    "df.isna().sum()"
   ]
  },
  {
   "cell_type": "code",
   "execution_count": 7,
   "metadata": {
    "execution": {
     "iopub.execute_input": "2023-01-18T03:55:53.430302Z",
     "iopub.status.busy": "2023-01-18T03:55:53.428680Z",
     "iopub.status.idle": "2023-01-18T03:55:53.567235Z",
     "shell.execute_reply": "2023-01-18T03:55:53.565986Z",
     "shell.execute_reply.started": "2023-01-18T03:55:53.430231Z"
    }
   },
   "outputs": [],
   "source": [
    "df.dropna(inplace=True)"
   ]
  },
  {
   "cell_type": "code",
   "execution_count": 8,
   "metadata": {
    "execution": {
     "iopub.execute_input": "2023-01-18T03:55:54.117716Z",
     "iopub.status.busy": "2023-01-18T03:55:54.117049Z",
     "iopub.status.idle": "2023-01-18T03:55:54.127838Z",
     "shell.execute_reply": "2023-01-18T03:55:54.126026Z",
     "shell.execute_reply.started": "2023-01-18T03:55:54.117658Z"
    }
   },
   "outputs": [
    {
     "data": {
      "text/plain": [
       "(192361, 6)"
      ]
     },
     "execution_count": 8,
     "metadata": {},
     "output_type": "execute_result"
    }
   ],
   "source": [
    "df.shape"
   ]
  },
  {
   "cell_type": "code",
   "execution_count": 8,
   "metadata": {
    "execution": {
     "iopub.execute_input": "2023-01-18T03:56:01.084328Z",
     "iopub.status.busy": "2023-01-18T03:56:01.083822Z",
     "iopub.status.idle": "2023-01-18T03:56:03.965941Z",
     "shell.execute_reply": "2023-01-18T03:56:03.964696Z",
     "shell.execute_reply.started": "2023-01-18T03:56:01.084288Z"
    }
   },
   "outputs": [
    {
     "data": {
      "application/vnd.plotly.v1+json": {
       "config": {
        "plotlyServerURL": "https://plot.ly"
       },
       "data": [
        {
         "alignmentgroup": "True",
         "hovertemplate": "x=%{x}<br>y=%{y}<extra></extra>",
         "legendgroup": "",
         "marker": {
          "color": "#636efa",
          "pattern": {
           "shape": ""
          }
         },
         "name": "",
         "offsetgroup": "",
         "orientation": "v",
         "showlegend": false,
         "textposition": "auto",
         "type": "bar",
         "x": [
          "Blockchain",
          "Data Science",
          "Technology",
          "Programming",
          "Poetry",
          "Cryptocurrency",
          "Machine Learning",
          "Life",
          "Bitcoin",
          "Writing",
          "Politics",
          "Startup",
          "Life Lessons",
          "Self Improvement",
          "Covid 19",
          "Software Development",
          "Love",
          "Python",
          "Business",
          "Health",
          "Mental Health",
          "JavaScript",
          "Relationships",
          "Education",
          "Artificial Intelligence",
          "Culture",
          "Design",
          "Self",
          "Marketing",
          "Entrepreneurship",
          "Ethereum",
          "Music",
          "Productivity",
          "Web Development",
          "History",
          "Humor",
          "Data Visualization",
          "Leadership",
          "Social Media",
          "Psychology",
          "Travel",
          "Fiction",
          "Creativity",
          "Coronavirus",
          "Parenting",
          "Crypto",
          "Science",
          "Tech",
          "UX",
          "Short Story"
         ],
         "xaxis": "x",
         "y": [
          7534,
          7410,
          6384,
          6364,
          6336,
          6245,
          6055,
          5952,
          5800,
          5115,
          5073,
          4974,
          4807,
          4267,
          4176,
          3980,
          3978,
          3943,
          3722,
          3650,
          3583,
          3487,
          3377,
          3269,
          3222,
          3027,
          2932,
          2876,
          2791,
          2782,
          2731,
          2524,
          2509,
          2498,
          2418,
          2386,
          2332,
          2317,
          2284,
          2200,
          2138,
          2128,
          2069,
          2043,
          1983,
          1889,
          1879,
          1850,
          1818,
          1815
         ],
         "yaxis": "y"
        }
       ],
       "layout": {
        "barmode": "relative",
        "legend": {
         "tracegroupgap": 0
        },
        "margin": {
         "t": 60
        },
        "template": {
         "data": {
          "bar": [
           {
            "error_x": {
             "color": "#2a3f5f"
            },
            "error_y": {
             "color": "#2a3f5f"
            },
            "marker": {
             "line": {
              "color": "#E5ECF6",
              "width": 0.5
             },
             "pattern": {
              "fillmode": "overlay",
              "size": 10,
              "solidity": 0.2
             }
            },
            "type": "bar"
           }
          ],
          "barpolar": [
           {
            "marker": {
             "line": {
              "color": "#E5ECF6",
              "width": 0.5
             },
             "pattern": {
              "fillmode": "overlay",
              "size": 10,
              "solidity": 0.2
             }
            },
            "type": "barpolar"
           }
          ],
          "carpet": [
           {
            "aaxis": {
             "endlinecolor": "#2a3f5f",
             "gridcolor": "white",
             "linecolor": "white",
             "minorgridcolor": "white",
             "startlinecolor": "#2a3f5f"
            },
            "baxis": {
             "endlinecolor": "#2a3f5f",
             "gridcolor": "white",
             "linecolor": "white",
             "minorgridcolor": "white",
             "startlinecolor": "#2a3f5f"
            },
            "type": "carpet"
           }
          ],
          "choropleth": [
           {
            "colorbar": {
             "outlinewidth": 0,
             "ticks": ""
            },
            "type": "choropleth"
           }
          ],
          "contour": [
           {
            "colorbar": {
             "outlinewidth": 0,
             "ticks": ""
            },
            "colorscale": [
             [
              0,
              "#0d0887"
             ],
             [
              0.1111111111111111,
              "#46039f"
             ],
             [
              0.2222222222222222,
              "#7201a8"
             ],
             [
              0.3333333333333333,
              "#9c179e"
             ],
             [
              0.4444444444444444,
              "#bd3786"
             ],
             [
              0.5555555555555556,
              "#d8576b"
             ],
             [
              0.6666666666666666,
              "#ed7953"
             ],
             [
              0.7777777777777778,
              "#fb9f3a"
             ],
             [
              0.8888888888888888,
              "#fdca26"
             ],
             [
              1,
              "#f0f921"
             ]
            ],
            "type": "contour"
           }
          ],
          "contourcarpet": [
           {
            "colorbar": {
             "outlinewidth": 0,
             "ticks": ""
            },
            "type": "contourcarpet"
           }
          ],
          "heatmap": [
           {
            "colorbar": {
             "outlinewidth": 0,
             "ticks": ""
            },
            "colorscale": [
             [
              0,
              "#0d0887"
             ],
             [
              0.1111111111111111,
              "#46039f"
             ],
             [
              0.2222222222222222,
              "#7201a8"
             ],
             [
              0.3333333333333333,
              "#9c179e"
             ],
             [
              0.4444444444444444,
              "#bd3786"
             ],
             [
              0.5555555555555556,
              "#d8576b"
             ],
             [
              0.6666666666666666,
              "#ed7953"
             ],
             [
              0.7777777777777778,
              "#fb9f3a"
             ],
             [
              0.8888888888888888,
              "#fdca26"
             ],
             [
              1,
              "#f0f921"
             ]
            ],
            "type": "heatmap"
           }
          ],
          "heatmapgl": [
           {
            "colorbar": {
             "outlinewidth": 0,
             "ticks": ""
            },
            "colorscale": [
             [
              0,
              "#0d0887"
             ],
             [
              0.1111111111111111,
              "#46039f"
             ],
             [
              0.2222222222222222,
              "#7201a8"
             ],
             [
              0.3333333333333333,
              "#9c179e"
             ],
             [
              0.4444444444444444,
              "#bd3786"
             ],
             [
              0.5555555555555556,
              "#d8576b"
             ],
             [
              0.6666666666666666,
              "#ed7953"
             ],
             [
              0.7777777777777778,
              "#fb9f3a"
             ],
             [
              0.8888888888888888,
              "#fdca26"
             ],
             [
              1,
              "#f0f921"
             ]
            ],
            "type": "heatmapgl"
           }
          ],
          "histogram": [
           {
            "marker": {
             "pattern": {
              "fillmode": "overlay",
              "size": 10,
              "solidity": 0.2
             }
            },
            "type": "histogram"
           }
          ],
          "histogram2d": [
           {
            "colorbar": {
             "outlinewidth": 0,
             "ticks": ""
            },
            "colorscale": [
             [
              0,
              "#0d0887"
             ],
             [
              0.1111111111111111,
              "#46039f"
             ],
             [
              0.2222222222222222,
              "#7201a8"
             ],
             [
              0.3333333333333333,
              "#9c179e"
             ],
             [
              0.4444444444444444,
              "#bd3786"
             ],
             [
              0.5555555555555556,
              "#d8576b"
             ],
             [
              0.6666666666666666,
              "#ed7953"
             ],
             [
              0.7777777777777778,
              "#fb9f3a"
             ],
             [
              0.8888888888888888,
              "#fdca26"
             ],
             [
              1,
              "#f0f921"
             ]
            ],
            "type": "histogram2d"
           }
          ],
          "histogram2dcontour": [
           {
            "colorbar": {
             "outlinewidth": 0,
             "ticks": ""
            },
            "colorscale": [
             [
              0,
              "#0d0887"
             ],
             [
              0.1111111111111111,
              "#46039f"
             ],
             [
              0.2222222222222222,
              "#7201a8"
             ],
             [
              0.3333333333333333,
              "#9c179e"
             ],
             [
              0.4444444444444444,
              "#bd3786"
             ],
             [
              0.5555555555555556,
              "#d8576b"
             ],
             [
              0.6666666666666666,
              "#ed7953"
             ],
             [
              0.7777777777777778,
              "#fb9f3a"
             ],
             [
              0.8888888888888888,
              "#fdca26"
             ],
             [
              1,
              "#f0f921"
             ]
            ],
            "type": "histogram2dcontour"
           }
          ],
          "mesh3d": [
           {
            "colorbar": {
             "outlinewidth": 0,
             "ticks": ""
            },
            "type": "mesh3d"
           }
          ],
          "parcoords": [
           {
            "line": {
             "colorbar": {
              "outlinewidth": 0,
              "ticks": ""
             }
            },
            "type": "parcoords"
           }
          ],
          "pie": [
           {
            "automargin": true,
            "type": "pie"
           }
          ],
          "scatter": [
           {
            "fillpattern": {
             "fillmode": "overlay",
             "size": 10,
             "solidity": 0.2
            },
            "type": "scatter"
           }
          ],
          "scatter3d": [
           {
            "line": {
             "colorbar": {
              "outlinewidth": 0,
              "ticks": ""
             }
            },
            "marker": {
             "colorbar": {
              "outlinewidth": 0,
              "ticks": ""
             }
            },
            "type": "scatter3d"
           }
          ],
          "scattercarpet": [
           {
            "marker": {
             "colorbar": {
              "outlinewidth": 0,
              "ticks": ""
             }
            },
            "type": "scattercarpet"
           }
          ],
          "scattergeo": [
           {
            "marker": {
             "colorbar": {
              "outlinewidth": 0,
              "ticks": ""
             }
            },
            "type": "scattergeo"
           }
          ],
          "scattergl": [
           {
            "marker": {
             "colorbar": {
              "outlinewidth": 0,
              "ticks": ""
             }
            },
            "type": "scattergl"
           }
          ],
          "scattermapbox": [
           {
            "marker": {
             "colorbar": {
              "outlinewidth": 0,
              "ticks": ""
             }
            },
            "type": "scattermapbox"
           }
          ],
          "scatterpolar": [
           {
            "marker": {
             "colorbar": {
              "outlinewidth": 0,
              "ticks": ""
             }
            },
            "type": "scatterpolar"
           }
          ],
          "scatterpolargl": [
           {
            "marker": {
             "colorbar": {
              "outlinewidth": 0,
              "ticks": ""
             }
            },
            "type": "scatterpolargl"
           }
          ],
          "scatterternary": [
           {
            "marker": {
             "colorbar": {
              "outlinewidth": 0,
              "ticks": ""
             }
            },
            "type": "scatterternary"
           }
          ],
          "surface": [
           {
            "colorbar": {
             "outlinewidth": 0,
             "ticks": ""
            },
            "colorscale": [
             [
              0,
              "#0d0887"
             ],
             [
              0.1111111111111111,
              "#46039f"
             ],
             [
              0.2222222222222222,
              "#7201a8"
             ],
             [
              0.3333333333333333,
              "#9c179e"
             ],
             [
              0.4444444444444444,
              "#bd3786"
             ],
             [
              0.5555555555555556,
              "#d8576b"
             ],
             [
              0.6666666666666666,
              "#ed7953"
             ],
             [
              0.7777777777777778,
              "#fb9f3a"
             ],
             [
              0.8888888888888888,
              "#fdca26"
             ],
             [
              1,
              "#f0f921"
             ]
            ],
            "type": "surface"
           }
          ],
          "table": [
           {
            "cells": {
             "fill": {
              "color": "#EBF0F8"
             },
             "line": {
              "color": "white"
             }
            },
            "header": {
             "fill": {
              "color": "#C8D4E3"
             },
             "line": {
              "color": "white"
             }
            },
            "type": "table"
           }
          ]
         },
         "layout": {
          "annotationdefaults": {
           "arrowcolor": "#2a3f5f",
           "arrowhead": 0,
           "arrowwidth": 1
          },
          "autotypenumbers": "strict",
          "coloraxis": {
           "colorbar": {
            "outlinewidth": 0,
            "ticks": ""
           }
          },
          "colorscale": {
           "diverging": [
            [
             0,
             "#8e0152"
            ],
            [
             0.1,
             "#c51b7d"
            ],
            [
             0.2,
             "#de77ae"
            ],
            [
             0.3,
             "#f1b6da"
            ],
            [
             0.4,
             "#fde0ef"
            ],
            [
             0.5,
             "#f7f7f7"
            ],
            [
             0.6,
             "#e6f5d0"
            ],
            [
             0.7,
             "#b8e186"
            ],
            [
             0.8,
             "#7fbc41"
            ],
            [
             0.9,
             "#4d9221"
            ],
            [
             1,
             "#276419"
            ]
           ],
           "sequential": [
            [
             0,
             "#0d0887"
            ],
            [
             0.1111111111111111,
             "#46039f"
            ],
            [
             0.2222222222222222,
             "#7201a8"
            ],
            [
             0.3333333333333333,
             "#9c179e"
            ],
            [
             0.4444444444444444,
             "#bd3786"
            ],
            [
             0.5555555555555556,
             "#d8576b"
            ],
            [
             0.6666666666666666,
             "#ed7953"
            ],
            [
             0.7777777777777778,
             "#fb9f3a"
            ],
            [
             0.8888888888888888,
             "#fdca26"
            ],
            [
             1,
             "#f0f921"
            ]
           ],
           "sequentialminus": [
            [
             0,
             "#0d0887"
            ],
            [
             0.1111111111111111,
             "#46039f"
            ],
            [
             0.2222222222222222,
             "#7201a8"
            ],
            [
             0.3333333333333333,
             "#9c179e"
            ],
            [
             0.4444444444444444,
             "#bd3786"
            ],
            [
             0.5555555555555556,
             "#d8576b"
            ],
            [
             0.6666666666666666,
             "#ed7953"
            ],
            [
             0.7777777777777778,
             "#fb9f3a"
            ],
            [
             0.8888888888888888,
             "#fdca26"
            ],
            [
             1,
             "#f0f921"
            ]
           ]
          },
          "colorway": [
           "#636efa",
           "#EF553B",
           "#00cc96",
           "#ab63fa",
           "#FFA15A",
           "#19d3f3",
           "#FF6692",
           "#B6E880",
           "#FF97FF",
           "#FECB52"
          ],
          "font": {
           "color": "#2a3f5f"
          },
          "geo": {
           "bgcolor": "white",
           "lakecolor": "white",
           "landcolor": "#E5ECF6",
           "showlakes": true,
           "showland": true,
           "subunitcolor": "white"
          },
          "hoverlabel": {
           "align": "left"
          },
          "hovermode": "closest",
          "mapbox": {
           "style": "light"
          },
          "paper_bgcolor": "white",
          "plot_bgcolor": "#E5ECF6",
          "polar": {
           "angularaxis": {
            "gridcolor": "white",
            "linecolor": "white",
            "ticks": ""
           },
           "bgcolor": "#E5ECF6",
           "radialaxis": {
            "gridcolor": "white",
            "linecolor": "white",
            "ticks": ""
           }
          },
          "scene": {
           "xaxis": {
            "backgroundcolor": "#E5ECF6",
            "gridcolor": "white",
            "gridwidth": 2,
            "linecolor": "white",
            "showbackground": true,
            "ticks": "",
            "zerolinecolor": "white"
           },
           "yaxis": {
            "backgroundcolor": "#E5ECF6",
            "gridcolor": "white",
            "gridwidth": 2,
            "linecolor": "white",
            "showbackground": true,
            "ticks": "",
            "zerolinecolor": "white"
           },
           "zaxis": {
            "backgroundcolor": "#E5ECF6",
            "gridcolor": "white",
            "gridwidth": 2,
            "linecolor": "white",
            "showbackground": true,
            "ticks": "",
            "zerolinecolor": "white"
           }
          },
          "shapedefaults": {
           "line": {
            "color": "#2a3f5f"
           }
          },
          "ternary": {
           "aaxis": {
            "gridcolor": "white",
            "linecolor": "white",
            "ticks": ""
           },
           "baxis": {
            "gridcolor": "white",
            "linecolor": "white",
            "ticks": ""
           },
           "bgcolor": "#E5ECF6",
           "caxis": {
            "gridcolor": "white",
            "linecolor": "white",
            "ticks": ""
           }
          },
          "title": {
           "x": 0.05
          },
          "xaxis": {
           "automargin": true,
           "gridcolor": "white",
           "linecolor": "white",
           "ticks": "",
           "title": {
            "standoff": 15
           },
           "zerolinecolor": "white",
           "zerolinewidth": 2
          },
          "yaxis": {
           "automargin": true,
           "gridcolor": "white",
           "linecolor": "white",
           "ticks": "",
           "title": {
            "standoff": 15
           },
           "zerolinecolor": "white",
           "zerolinewidth": 2
          }
         }
        },
        "xaxis": {
         "anchor": "y",
         "domain": [
          0,
          1
         ],
         "title": {
          "text": "tags"
         }
        },
        "yaxis": {
         "anchor": "x",
         "domain": [
          0,
          1
         ],
         "title": {
          "text": "frequencies"
         }
        }
       }
      }
     },
     "metadata": {},
     "output_type": "display_data"
    }
   ],
   "source": [
    "all_tags = [tag for tags_list in df[\"tags\"] for tag in eval(tags_list)]\n",
    "d_tags_counter = Counter(all_tags)\n",
    "tags, frequencies = list(zip(*d_tags_counter.most_common(n=50)))\n",
    "\n",
    "fig = px.bar(x=tags, y=frequencies)\n",
    "fig.update_xaxes(title=\"tags\")\n",
    "fig.update_yaxes(title=\"frequencies\")\n",
    "fig.show()"
   ]
  },
  {
   "cell_type": "code",
   "execution_count": 9,
   "metadata": {
    "execution": {
     "iopub.execute_input": "2023-01-18T03:56:03.969068Z",
     "iopub.status.busy": "2023-01-18T03:56:03.968657Z",
     "iopub.status.idle": "2023-01-18T03:56:03.974783Z",
     "shell.execute_reply": "2023-01-18T03:56:03.973261Z",
     "shell.execute_reply.started": "2023-01-18T03:56:03.969031Z"
    }
   },
   "outputs": [
    {
     "name": "stdout",
     "output_type": "stream",
     "text": [
      "50\n"
     ]
    }
   ],
   "source": [
    "print(len(tags))"
   ]
  },
  {
   "cell_type": "code",
   "execution_count": 10,
   "metadata": {
    "execution": {
     "iopub.execute_input": "2023-01-18T03:56:17.669211Z",
     "iopub.status.busy": "2023-01-18T03:56:17.667607Z",
     "iopub.status.idle": "2023-01-18T03:56:17.942573Z",
     "shell.execute_reply": "2023-01-18T03:56:17.940942Z",
     "shell.execute_reply.started": "2023-01-18T03:56:17.669112Z"
    }
   },
   "outputs": [
    {
     "name": "stdout",
     "output_type": "stream",
     "text": [
      "Removed 3297 articles out of 192361\n"
     ]
    }
   ],
   "source": [
    "df[\"text_length\"] = df[\"text\"].str.len()\n",
    "df_cleaned = df[df[\"text_length\"] <= 20000]\n",
    "print(f\"Removed {len(df) - len(df_cleaned)} articles out of {len(df)}\")"
   ]
  },
  {
   "cell_type": "code",
   "execution_count": 11,
   "metadata": {},
   "outputs": [
    {
     "name": "stderr",
     "output_type": "stream",
     "text": [
      "C:\\Users\\Dell_Owner\\AppData\\Local\\Temp\\ipykernel_6916\\3136961772.py:1: SettingWithCopyWarning:\n",
      "\n",
      "\n",
      "A value is trying to be set on a copy of a slice from a DataFrame.\n",
      "Try using .loc[row_indexer,col_indexer] = value instead\n",
      "\n",
      "See the caveats in the documentation: https://pandas.pydata.org/pandas-docs/stable/user_guide/indexing.html#returning-a-view-versus-a-copy\n",
      "\n"
     ]
    }
   ],
   "source": [
    "df_cleaned[\"month\"] = df_cleaned[\"timestamp\"].str[:7]\n",
    "df_cleaned = df_cleaned[(~df_cleaned[\"month\"].isna())]\n",
    "df_cleaned = df_cleaned[(df_cleaned[\"month\"].str[:4].apply(int) >= 2020) & (df_cleaned[\"month\"].str[:4].apply(int) <= 2023)]"
   ]
  },
  {
   "cell_type": "code",
   "execution_count": 12,
   "metadata": {
    "execution": {
     "iopub.execute_input": "2023-01-18T03:56:19.903078Z",
     "iopub.status.busy": "2023-01-18T03:56:19.902631Z",
     "iopub.status.idle": "2023-01-18T03:56:19.921635Z",
     "shell.execute_reply": "2023-01-18T03:56:19.920684Z",
     "shell.execute_reply.started": "2023-01-18T03:56:19.903042Z"
    }
   },
   "outputs": [
    {
     "data": {
      "text/html": [
       "<div>\n",
       "<style scoped>\n",
       "    .dataframe tbody tr th:only-of-type {\n",
       "        vertical-align: middle;\n",
       "    }\n",
       "\n",
       "    .dataframe tbody tr th {\n",
       "        vertical-align: top;\n",
       "    }\n",
       "\n",
       "    .dataframe thead th {\n",
       "        text-align: right;\n",
       "    }\n",
       "</style>\n",
       "<table border=\"1\" class=\"dataframe\">\n",
       "  <thead>\n",
       "    <tr style=\"text-align: right;\">\n",
       "      <th></th>\n",
       "      <th>title</th>\n",
       "      <th>text</th>\n",
       "      <th>url</th>\n",
       "      <th>authors</th>\n",
       "      <th>timestamp</th>\n",
       "      <th>tags</th>\n",
       "      <th>text_length</th>\n",
       "      <th>month</th>\n",
       "    </tr>\n",
       "  </thead>\n",
       "  <tbody>\n",
       "    <tr>\n",
       "      <th>0</th>\n",
       "      <td>Mental Note Vol. 24</td>\n",
       "      <td>Photo by Josh Riemer on Unsplash\\n\\nMerry Chri...</td>\n",
       "      <td>https://medium.com/invisible-illness/mental-no...</td>\n",
       "      <td>['Ryan Fan']</td>\n",
       "      <td>2020-12-26 03:38:10.479000+00:00</td>\n",
       "      <td>['Mental Health', 'Health', 'Psychology', 'Sci...</td>\n",
       "      <td>5018</td>\n",
       "      <td>2020-12</td>\n",
       "    </tr>\n",
       "    <tr>\n",
       "      <th>1</th>\n",
       "      <td>Your Brain On Coronavirus</td>\n",
       "      <td>Your Brain On Coronavirus\\n\\nA guide to the cu...</td>\n",
       "      <td>https://medium.com/age-of-awareness/how-the-pa...</td>\n",
       "      <td>['Simon Spichak']</td>\n",
       "      <td>2020-09-23 22:10:17.126000+00:00</td>\n",
       "      <td>['Mental Health', 'Coronavirus', 'Science', 'P...</td>\n",
       "      <td>7293</td>\n",
       "      <td>2020-09</td>\n",
       "    </tr>\n",
       "    <tr>\n",
       "      <th>2</th>\n",
       "      <td>Mind Your Nose</td>\n",
       "      <td>Mind Your Nose\\n\\nHow smell training can chang...</td>\n",
       "      <td>https://medium.com/neodotlife/mind-your-nose-f...</td>\n",
       "      <td>[]</td>\n",
       "      <td>2020-10-10 20:17:37.132000+00:00</td>\n",
       "      <td>['Biotechnology', 'Neuroscience', 'Brain', 'We...</td>\n",
       "      <td>5730</td>\n",
       "      <td>2020-10</td>\n",
       "    </tr>\n",
       "    <tr>\n",
       "      <th>3</th>\n",
       "      <td>The 4 Purposes of Dreams</td>\n",
       "      <td>Passionate about the synergy between science a...</td>\n",
       "      <td>https://medium.com/science-for-real/the-4-purp...</td>\n",
       "      <td>['Eshan Samaranayake']</td>\n",
       "      <td>2020-12-21 16:05:19.524000+00:00</td>\n",
       "      <td>['Health', 'Neuroscience', 'Mental Health', 'P...</td>\n",
       "      <td>146</td>\n",
       "      <td>2020-12</td>\n",
       "    </tr>\n",
       "    <tr>\n",
       "      <th>4</th>\n",
       "      <td>Surviving a Rod Through the Head</td>\n",
       "      <td>You’ve heard of him, haven’t you? Phineas Gage...</td>\n",
       "      <td>https://medium.com/live-your-life-on-purpose/s...</td>\n",
       "      <td>['Rishav Sinha']</td>\n",
       "      <td>2020-02-26 00:01:01.576000+00:00</td>\n",
       "      <td>['Brain', 'Health', 'Development', 'Psychology...</td>\n",
       "      <td>2326</td>\n",
       "      <td>2020-02</td>\n",
       "    </tr>\n",
       "  </tbody>\n",
       "</table>\n",
       "</div>"
      ],
      "text/plain": [
       "                              title  \\\n",
       "0               Mental Note Vol. 24   \n",
       "1         Your Brain On Coronavirus   \n",
       "2                    Mind Your Nose   \n",
       "3          The 4 Purposes of Dreams   \n",
       "4  Surviving a Rod Through the Head   \n",
       "\n",
       "                                                text  \\\n",
       "0  Photo by Josh Riemer on Unsplash\\n\\nMerry Chri...   \n",
       "1  Your Brain On Coronavirus\\n\\nA guide to the cu...   \n",
       "2  Mind Your Nose\\n\\nHow smell training can chang...   \n",
       "3  Passionate about the synergy between science a...   \n",
       "4  You’ve heard of him, haven’t you? Phineas Gage...   \n",
       "\n",
       "                                                 url                 authors  \\\n",
       "0  https://medium.com/invisible-illness/mental-no...            ['Ryan Fan']   \n",
       "1  https://medium.com/age-of-awareness/how-the-pa...       ['Simon Spichak']   \n",
       "2  https://medium.com/neodotlife/mind-your-nose-f...                      []   \n",
       "3  https://medium.com/science-for-real/the-4-purp...  ['Eshan Samaranayake']   \n",
       "4  https://medium.com/live-your-life-on-purpose/s...        ['Rishav Sinha']   \n",
       "\n",
       "                          timestamp  \\\n",
       "0  2020-12-26 03:38:10.479000+00:00   \n",
       "1  2020-09-23 22:10:17.126000+00:00   \n",
       "2  2020-10-10 20:17:37.132000+00:00   \n",
       "3  2020-12-21 16:05:19.524000+00:00   \n",
       "4  2020-02-26 00:01:01.576000+00:00   \n",
       "\n",
       "                                                tags  text_length    month  \n",
       "0  ['Mental Health', 'Health', 'Psychology', 'Sci...         5018  2020-12  \n",
       "1  ['Mental Health', 'Coronavirus', 'Science', 'P...         7293  2020-09  \n",
       "2  ['Biotechnology', 'Neuroscience', 'Brain', 'We...         5730  2020-10  \n",
       "3  ['Health', 'Neuroscience', 'Mental Health', 'P...          146  2020-12  \n",
       "4  ['Brain', 'Health', 'Development', 'Psychology...         2326  2020-02  "
      ]
     },
     "execution_count": 12,
     "metadata": {},
     "output_type": "execute_result"
    }
   ],
   "source": [
    "df_cleaned.head()"
   ]
  },
  {
   "cell_type": "code",
   "execution_count": 14,
   "metadata": {},
   "outputs": [
    {
     "data": {
      "text/plain": [
       "(145659, 8)"
      ]
     },
     "execution_count": 14,
     "metadata": {},
     "output_type": "execute_result"
    }
   ],
   "source": [
    "df_cleaned.shape"
   ]
  },
  {
   "cell_type": "code",
   "execution_count": 13,
   "metadata": {
    "execution": {
     "iopub.execute_input": "2023-01-18T03:56:28.728350Z",
     "iopub.status.busy": "2023-01-18T03:56:28.727832Z",
     "iopub.status.idle": "2023-01-18T03:56:28.752288Z",
     "shell.execute_reply": "2023-01-18T03:56:28.750269Z",
     "shell.execute_reply.started": "2023-01-18T03:56:28.728306Z"
    }
   },
   "outputs": [],
   "source": [
    "df = df_cleaned.sample(5000, random_state=42)"
   ]
  },
  {
   "cell_type": "code",
   "execution_count": 14,
   "metadata": {},
   "outputs": [
    {
     "data": {
      "application/vnd.plotly.v1+json": {
       "config": {
        "plotlyServerURL": "https://plot.ly"
       },
       "data": [
        {
         "alignmentgroup": "True",
         "hovertemplate": "x=%{x}<br>y=%{y}<extra></extra>",
         "legendgroup": "",
         "marker": {
          "color": "#636efa",
          "pattern": {
           "shape": ""
          }
         },
         "name": "",
         "offsetgroup": "",
         "orientation": "v",
         "showlegend": false,
         "textposition": "auto",
         "type": "bar",
         "x": [
          "Data Science",
          "Programming",
          "Poetry",
          "Machine Learning",
          "Covid 19",
          "Life",
          "Python",
          "Technology",
          "Startup",
          "Writing",
          "Life Lessons",
          "Love",
          "Self Improvement",
          "Business",
          "Software Development",
          "Relationships",
          "Blockchain",
          "Politics",
          "Cryptocurrency",
          "Artificial Intelligence",
          "JavaScript",
          "Mental Health",
          "Health",
          "Coronavirus",
          "History",
          "Entrepreneurship",
          "Self",
          "Humor",
          "Culture",
          "Education",
          "Leadership",
          "Creativity",
          "Marketing",
          "Design",
          "Women",
          "Web Development",
          "Bitcoin",
          "Productivity",
          "Fiction",
          "Christmas",
          "Data Visualization",
          "Music",
          "Family",
          "Personal Development",
          "Deep Learning",
          "Social Media",
          "Science",
          "Travel",
          "Money",
          "Finance",
          "Short Story",
          "UX",
          "Coding",
          "React",
          "Psychology",
          "News",
          "Inspiration",
          "Spirituality",
          "Parenting",
          "Work",
          "Data",
          "Self-awareness",
          "Art",
          "Christianity",
          "Writing Tips",
          "Tech",
          "Baby",
          "2020",
          "LGBTQ",
          "Books",
          "Society",
          "Motivation",
          "Ethereum",
          "Defi",
          "Investing",
          "Film",
          "Software Engineering",
          "Food",
          "Pandemic",
          "Lifestyle",
          "Crypto",
          "Trump",
          "DevOps",
          "Movies",
          "Poem",
          "AI",
          "Equality",
          "Racism",
          "Development",
          "Careers"
         ],
         "xaxis": "x",
         "y": [
          196,
          181,
          175,
          153,
          151,
          144,
          141,
          140,
          136,
          130,
          119,
          116,
          109,
          106,
          102,
          100,
          98,
          98,
          98,
          97,
          88,
          87,
          84,
          75,
          75,
          74,
          68,
          67,
          66,
          64,
          62,
          61,
          61,
          57,
          56,
          56,
          55,
          55,
          52,
          52,
          51,
          51,
          50,
          48,
          48,
          48,
          47,
          47,
          46,
          44,
          44,
          44,
          42,
          41,
          41,
          40,
          40,
          40,
          40,
          40,
          40,
          39,
          38,
          37,
          37,
          37,
          37,
          37,
          36,
          36,
          36,
          36,
          35,
          35,
          34,
          34,
          34,
          34,
          34,
          32,
          32,
          32,
          32,
          32,
          31,
          31,
          31,
          31,
          30,
          30
         ],
         "yaxis": "y"
        }
       ],
       "layout": {
        "barmode": "relative",
        "legend": {
         "tracegroupgap": 0
        },
        "margin": {
         "t": 60
        },
        "template": {
         "data": {
          "bar": [
           {
            "error_x": {
             "color": "#2a3f5f"
            },
            "error_y": {
             "color": "#2a3f5f"
            },
            "marker": {
             "line": {
              "color": "#E5ECF6",
              "width": 0.5
             },
             "pattern": {
              "fillmode": "overlay",
              "size": 10,
              "solidity": 0.2
             }
            },
            "type": "bar"
           }
          ],
          "barpolar": [
           {
            "marker": {
             "line": {
              "color": "#E5ECF6",
              "width": 0.5
             },
             "pattern": {
              "fillmode": "overlay",
              "size": 10,
              "solidity": 0.2
             }
            },
            "type": "barpolar"
           }
          ],
          "carpet": [
           {
            "aaxis": {
             "endlinecolor": "#2a3f5f",
             "gridcolor": "white",
             "linecolor": "white",
             "minorgridcolor": "white",
             "startlinecolor": "#2a3f5f"
            },
            "baxis": {
             "endlinecolor": "#2a3f5f",
             "gridcolor": "white",
             "linecolor": "white",
             "minorgridcolor": "white",
             "startlinecolor": "#2a3f5f"
            },
            "type": "carpet"
           }
          ],
          "choropleth": [
           {
            "colorbar": {
             "outlinewidth": 0,
             "ticks": ""
            },
            "type": "choropleth"
           }
          ],
          "contour": [
           {
            "colorbar": {
             "outlinewidth": 0,
             "ticks": ""
            },
            "colorscale": [
             [
              0,
              "#0d0887"
             ],
             [
              0.1111111111111111,
              "#46039f"
             ],
             [
              0.2222222222222222,
              "#7201a8"
             ],
             [
              0.3333333333333333,
              "#9c179e"
             ],
             [
              0.4444444444444444,
              "#bd3786"
             ],
             [
              0.5555555555555556,
              "#d8576b"
             ],
             [
              0.6666666666666666,
              "#ed7953"
             ],
             [
              0.7777777777777778,
              "#fb9f3a"
             ],
             [
              0.8888888888888888,
              "#fdca26"
             ],
             [
              1,
              "#f0f921"
             ]
            ],
            "type": "contour"
           }
          ],
          "contourcarpet": [
           {
            "colorbar": {
             "outlinewidth": 0,
             "ticks": ""
            },
            "type": "contourcarpet"
           }
          ],
          "heatmap": [
           {
            "colorbar": {
             "outlinewidth": 0,
             "ticks": ""
            },
            "colorscale": [
             [
              0,
              "#0d0887"
             ],
             [
              0.1111111111111111,
              "#46039f"
             ],
             [
              0.2222222222222222,
              "#7201a8"
             ],
             [
              0.3333333333333333,
              "#9c179e"
             ],
             [
              0.4444444444444444,
              "#bd3786"
             ],
             [
              0.5555555555555556,
              "#d8576b"
             ],
             [
              0.6666666666666666,
              "#ed7953"
             ],
             [
              0.7777777777777778,
              "#fb9f3a"
             ],
             [
              0.8888888888888888,
              "#fdca26"
             ],
             [
              1,
              "#f0f921"
             ]
            ],
            "type": "heatmap"
           }
          ],
          "heatmapgl": [
           {
            "colorbar": {
             "outlinewidth": 0,
             "ticks": ""
            },
            "colorscale": [
             [
              0,
              "#0d0887"
             ],
             [
              0.1111111111111111,
              "#46039f"
             ],
             [
              0.2222222222222222,
              "#7201a8"
             ],
             [
              0.3333333333333333,
              "#9c179e"
             ],
             [
              0.4444444444444444,
              "#bd3786"
             ],
             [
              0.5555555555555556,
              "#d8576b"
             ],
             [
              0.6666666666666666,
              "#ed7953"
             ],
             [
              0.7777777777777778,
              "#fb9f3a"
             ],
             [
              0.8888888888888888,
              "#fdca26"
             ],
             [
              1,
              "#f0f921"
             ]
            ],
            "type": "heatmapgl"
           }
          ],
          "histogram": [
           {
            "marker": {
             "pattern": {
              "fillmode": "overlay",
              "size": 10,
              "solidity": 0.2
             }
            },
            "type": "histogram"
           }
          ],
          "histogram2d": [
           {
            "colorbar": {
             "outlinewidth": 0,
             "ticks": ""
            },
            "colorscale": [
             [
              0,
              "#0d0887"
             ],
             [
              0.1111111111111111,
              "#46039f"
             ],
             [
              0.2222222222222222,
              "#7201a8"
             ],
             [
              0.3333333333333333,
              "#9c179e"
             ],
             [
              0.4444444444444444,
              "#bd3786"
             ],
             [
              0.5555555555555556,
              "#d8576b"
             ],
             [
              0.6666666666666666,
              "#ed7953"
             ],
             [
              0.7777777777777778,
              "#fb9f3a"
             ],
             [
              0.8888888888888888,
              "#fdca26"
             ],
             [
              1,
              "#f0f921"
             ]
            ],
            "type": "histogram2d"
           }
          ],
          "histogram2dcontour": [
           {
            "colorbar": {
             "outlinewidth": 0,
             "ticks": ""
            },
            "colorscale": [
             [
              0,
              "#0d0887"
             ],
             [
              0.1111111111111111,
              "#46039f"
             ],
             [
              0.2222222222222222,
              "#7201a8"
             ],
             [
              0.3333333333333333,
              "#9c179e"
             ],
             [
              0.4444444444444444,
              "#bd3786"
             ],
             [
              0.5555555555555556,
              "#d8576b"
             ],
             [
              0.6666666666666666,
              "#ed7953"
             ],
             [
              0.7777777777777778,
              "#fb9f3a"
             ],
             [
              0.8888888888888888,
              "#fdca26"
             ],
             [
              1,
              "#f0f921"
             ]
            ],
            "type": "histogram2dcontour"
           }
          ],
          "mesh3d": [
           {
            "colorbar": {
             "outlinewidth": 0,
             "ticks": ""
            },
            "type": "mesh3d"
           }
          ],
          "parcoords": [
           {
            "line": {
             "colorbar": {
              "outlinewidth": 0,
              "ticks": ""
             }
            },
            "type": "parcoords"
           }
          ],
          "pie": [
           {
            "automargin": true,
            "type": "pie"
           }
          ],
          "scatter": [
           {
            "fillpattern": {
             "fillmode": "overlay",
             "size": 10,
             "solidity": 0.2
            },
            "type": "scatter"
           }
          ],
          "scatter3d": [
           {
            "line": {
             "colorbar": {
              "outlinewidth": 0,
              "ticks": ""
             }
            },
            "marker": {
             "colorbar": {
              "outlinewidth": 0,
              "ticks": ""
             }
            },
            "type": "scatter3d"
           }
          ],
          "scattercarpet": [
           {
            "marker": {
             "colorbar": {
              "outlinewidth": 0,
              "ticks": ""
             }
            },
            "type": "scattercarpet"
           }
          ],
          "scattergeo": [
           {
            "marker": {
             "colorbar": {
              "outlinewidth": 0,
              "ticks": ""
             }
            },
            "type": "scattergeo"
           }
          ],
          "scattergl": [
           {
            "marker": {
             "colorbar": {
              "outlinewidth": 0,
              "ticks": ""
             }
            },
            "type": "scattergl"
           }
          ],
          "scattermapbox": [
           {
            "marker": {
             "colorbar": {
              "outlinewidth": 0,
              "ticks": ""
             }
            },
            "type": "scattermapbox"
           }
          ],
          "scatterpolar": [
           {
            "marker": {
             "colorbar": {
              "outlinewidth": 0,
              "ticks": ""
             }
            },
            "type": "scatterpolar"
           }
          ],
          "scatterpolargl": [
           {
            "marker": {
             "colorbar": {
              "outlinewidth": 0,
              "ticks": ""
             }
            },
            "type": "scatterpolargl"
           }
          ],
          "scatterternary": [
           {
            "marker": {
             "colorbar": {
              "outlinewidth": 0,
              "ticks": ""
             }
            },
            "type": "scatterternary"
           }
          ],
          "surface": [
           {
            "colorbar": {
             "outlinewidth": 0,
             "ticks": ""
            },
            "colorscale": [
             [
              0,
              "#0d0887"
             ],
             [
              0.1111111111111111,
              "#46039f"
             ],
             [
              0.2222222222222222,
              "#7201a8"
             ],
             [
              0.3333333333333333,
              "#9c179e"
             ],
             [
              0.4444444444444444,
              "#bd3786"
             ],
             [
              0.5555555555555556,
              "#d8576b"
             ],
             [
              0.6666666666666666,
              "#ed7953"
             ],
             [
              0.7777777777777778,
              "#fb9f3a"
             ],
             [
              0.8888888888888888,
              "#fdca26"
             ],
             [
              1,
              "#f0f921"
             ]
            ],
            "type": "surface"
           }
          ],
          "table": [
           {
            "cells": {
             "fill": {
              "color": "#EBF0F8"
             },
             "line": {
              "color": "white"
             }
            },
            "header": {
             "fill": {
              "color": "#C8D4E3"
             },
             "line": {
              "color": "white"
             }
            },
            "type": "table"
           }
          ]
         },
         "layout": {
          "annotationdefaults": {
           "arrowcolor": "#2a3f5f",
           "arrowhead": 0,
           "arrowwidth": 1
          },
          "autotypenumbers": "strict",
          "coloraxis": {
           "colorbar": {
            "outlinewidth": 0,
            "ticks": ""
           }
          },
          "colorscale": {
           "diverging": [
            [
             0,
             "#8e0152"
            ],
            [
             0.1,
             "#c51b7d"
            ],
            [
             0.2,
             "#de77ae"
            ],
            [
             0.3,
             "#f1b6da"
            ],
            [
             0.4,
             "#fde0ef"
            ],
            [
             0.5,
             "#f7f7f7"
            ],
            [
             0.6,
             "#e6f5d0"
            ],
            [
             0.7,
             "#b8e186"
            ],
            [
             0.8,
             "#7fbc41"
            ],
            [
             0.9,
             "#4d9221"
            ],
            [
             1,
             "#276419"
            ]
           ],
           "sequential": [
            [
             0,
             "#0d0887"
            ],
            [
             0.1111111111111111,
             "#46039f"
            ],
            [
             0.2222222222222222,
             "#7201a8"
            ],
            [
             0.3333333333333333,
             "#9c179e"
            ],
            [
             0.4444444444444444,
             "#bd3786"
            ],
            [
             0.5555555555555556,
             "#d8576b"
            ],
            [
             0.6666666666666666,
             "#ed7953"
            ],
            [
             0.7777777777777778,
             "#fb9f3a"
            ],
            [
             0.8888888888888888,
             "#fdca26"
            ],
            [
             1,
             "#f0f921"
            ]
           ],
           "sequentialminus": [
            [
             0,
             "#0d0887"
            ],
            [
             0.1111111111111111,
             "#46039f"
            ],
            [
             0.2222222222222222,
             "#7201a8"
            ],
            [
             0.3333333333333333,
             "#9c179e"
            ],
            [
             0.4444444444444444,
             "#bd3786"
            ],
            [
             0.5555555555555556,
             "#d8576b"
            ],
            [
             0.6666666666666666,
             "#ed7953"
            ],
            [
             0.7777777777777778,
             "#fb9f3a"
            ],
            [
             0.8888888888888888,
             "#fdca26"
            ],
            [
             1,
             "#f0f921"
            ]
           ]
          },
          "colorway": [
           "#636efa",
           "#EF553B",
           "#00cc96",
           "#ab63fa",
           "#FFA15A",
           "#19d3f3",
           "#FF6692",
           "#B6E880",
           "#FF97FF",
           "#FECB52"
          ],
          "font": {
           "color": "#2a3f5f"
          },
          "geo": {
           "bgcolor": "white",
           "lakecolor": "white",
           "landcolor": "#E5ECF6",
           "showlakes": true,
           "showland": true,
           "subunitcolor": "white"
          },
          "hoverlabel": {
           "align": "left"
          },
          "hovermode": "closest",
          "mapbox": {
           "style": "light"
          },
          "paper_bgcolor": "white",
          "plot_bgcolor": "#E5ECF6",
          "polar": {
           "angularaxis": {
            "gridcolor": "white",
            "linecolor": "white",
            "ticks": ""
           },
           "bgcolor": "#E5ECF6",
           "radialaxis": {
            "gridcolor": "white",
            "linecolor": "white",
            "ticks": ""
           }
          },
          "scene": {
           "xaxis": {
            "backgroundcolor": "#E5ECF6",
            "gridcolor": "white",
            "gridwidth": 2,
            "linecolor": "white",
            "showbackground": true,
            "ticks": "",
            "zerolinecolor": "white"
           },
           "yaxis": {
            "backgroundcolor": "#E5ECF6",
            "gridcolor": "white",
            "gridwidth": 2,
            "linecolor": "white",
            "showbackground": true,
            "ticks": "",
            "zerolinecolor": "white"
           },
           "zaxis": {
            "backgroundcolor": "#E5ECF6",
            "gridcolor": "white",
            "gridwidth": 2,
            "linecolor": "white",
            "showbackground": true,
            "ticks": "",
            "zerolinecolor": "white"
           }
          },
          "shapedefaults": {
           "line": {
            "color": "#2a3f5f"
           }
          },
          "ternary": {
           "aaxis": {
            "gridcolor": "white",
            "linecolor": "white",
            "ticks": ""
           },
           "baxis": {
            "gridcolor": "white",
            "linecolor": "white",
            "ticks": ""
           },
           "bgcolor": "#E5ECF6",
           "caxis": {
            "gridcolor": "white",
            "linecolor": "white",
            "ticks": ""
           }
          },
          "title": {
           "x": 0.05
          },
          "xaxis": {
           "automargin": true,
           "gridcolor": "white",
           "linecolor": "white",
           "ticks": "",
           "title": {
            "standoff": 15
           },
           "zerolinecolor": "white",
           "zerolinewidth": 2
          },
          "yaxis": {
           "automargin": true,
           "gridcolor": "white",
           "linecolor": "white",
           "ticks": "",
           "title": {
            "standoff": 15
           },
           "zerolinecolor": "white",
           "zerolinewidth": 2
          }
         }
        },
        "xaxis": {
         "anchor": "y",
         "domain": [
          0,
          1
         ],
         "title": {
          "text": "tags"
         }
        },
        "yaxis": {
         "anchor": "x",
         "domain": [
          0,
          1
         ],
         "title": {
          "text": "frequencies"
         }
        }
       }
      }
     },
     "metadata": {},
     "output_type": "display_data"
    }
   ],
   "source": [
    "all_tags = [tag for tags_list in df[\"tags\"] for tag in eval(tags_list)]\n",
    "d_tags_counter = Counter(all_tags)\n",
    "tags, frequencies = list(zip(*d_tags_counter.most_common(n=90)))\n",
    "\n",
    "fig = px.bar(x=tags, y=frequencies)\n",
    "fig.update_xaxes(title=\"tags\")\n",
    "fig.update_yaxes(title=\"frequencies\")\n",
    "fig.show()"
   ]
  },
  {
   "cell_type": "code",
   "execution_count": 15,
   "metadata": {
    "execution": {
     "iopub.execute_input": "2023-01-18T03:56:37.687153Z",
     "iopub.status.busy": "2023-01-18T03:56:37.686645Z",
     "iopub.status.idle": "2023-01-18T03:56:37.705179Z",
     "shell.execute_reply": "2023-01-18T03:56:37.703728Z",
     "shell.execute_reply.started": "2023-01-18T03:56:37.687107Z"
    }
   },
   "outputs": [
    {
     "data": {
      "text/plain": [
       "(5000, 8)"
      ]
     },
     "execution_count": 15,
     "metadata": {},
     "output_type": "execute_result"
    }
   ],
   "source": [
    "df.shape"
   ]
  },
  {
   "cell_type": "code",
   "execution_count": 16,
   "metadata": {
    "execution": {
     "iopub.execute_input": "2023-01-18T03:57:04.937911Z",
     "iopub.status.busy": "2023-01-18T03:57:04.937378Z",
     "iopub.status.idle": "2023-01-18T03:57:05.126036Z",
     "shell.execute_reply": "2023-01-18T03:57:05.124921Z",
     "shell.execute_reply.started": "2023-01-18T03:57:04.937868Z"
    }
   },
   "outputs": [],
   "source": [
    "df['tags_str'] = df['tags'].apply(lambda x: \" \".join(eval(x)))\n",
    "df['authors'] = df['authors'].apply(lambda x: \" \".join(eval(x)))"
   ]
  },
  {
   "cell_type": "code",
   "execution_count": 17,
   "metadata": {
    "execution": {
     "iopub.execute_input": "2023-01-18T03:57:06.158090Z",
     "iopub.status.busy": "2023-01-18T03:57:06.157186Z",
     "iopub.status.idle": "2023-01-18T03:57:06.175806Z",
     "shell.execute_reply": "2023-01-18T03:57:06.174286Z",
     "shell.execute_reply.started": "2023-01-18T03:57:06.158031Z"
    }
   },
   "outputs": [
    {
     "data": {
      "text/html": [
       "<div>\n",
       "<style scoped>\n",
       "    .dataframe tbody tr th:only-of-type {\n",
       "        vertical-align: middle;\n",
       "    }\n",
       "\n",
       "    .dataframe tbody tr th {\n",
       "        vertical-align: top;\n",
       "    }\n",
       "\n",
       "    .dataframe thead th {\n",
       "        text-align: right;\n",
       "    }\n",
       "</style>\n",
       "<table border=\"1\" class=\"dataframe\">\n",
       "  <thead>\n",
       "    <tr style=\"text-align: right;\">\n",
       "      <th></th>\n",
       "      <th>title</th>\n",
       "      <th>text</th>\n",
       "      <th>url</th>\n",
       "      <th>authors</th>\n",
       "      <th>timestamp</th>\n",
       "      <th>tags</th>\n",
       "      <th>text_length</th>\n",
       "      <th>month</th>\n",
       "      <th>tags_str</th>\n",
       "    </tr>\n",
       "  </thead>\n",
       "  <tbody>\n",
       "    <tr>\n",
       "      <th>38372</th>\n",
       "      <td>Someone asked me why they notice pennies on th...</td>\n",
       "      <td>Photo by Siora Photography on Unsplash\\n\\nI an...</td>\n",
       "      <td>https://medium.com/illumination-curated/someon...</td>\n",
       "      <td>Terry Mansfield</td>\n",
       "      <td>2020-12-20 01:13:06.340000+00:00</td>\n",
       "      <td>['Money', 'Short Form Content', 'Life Lessons'...</td>\n",
       "      <td>553</td>\n",
       "      <td>2020-12</td>\n",
       "      <td>Money Short Form Content Life Lessons Self Sho...</td>\n",
       "    </tr>\n",
       "    <tr>\n",
       "      <th>112723</th>\n",
       "      <td>Why I risked quitting my job in the middle of ...</td>\n",
       "      <td>Hello world. This is my first publication onli...</td>\n",
       "      <td>https://medium.com/@meganrenner/why-i-risked-q...</td>\n",
       "      <td>Megan Renner</td>\n",
       "      <td>2020-12-17 00:40:21.951000+00:00</td>\n",
       "      <td>['Coaching', 'Career Advice', 'Quitting A Job'...</td>\n",
       "      <td>2089</td>\n",
       "      <td>2020-12</td>\n",
       "      <td>Coaching Career Advice Quitting A Job Clarity ...</td>\n",
       "    </tr>\n",
       "    <tr>\n",
       "      <th>188808</th>\n",
       "      <td>How to Become a Healthy Consumer: Healthy Eati...</td>\n",
       "      <td>Healthy, happy people eat and shop often\\n\\n“L...</td>\n",
       "      <td>https://medium.com/@trippen/how-to-become-a-he...</td>\n",
       "      <td></td>\n",
       "      <td>2021-11-28 08:25:17.366000+00:00</td>\n",
       "      <td>['Diet', 'Ketogenic Diet', 'Healthy Eating', '...</td>\n",
       "      <td>3431</td>\n",
       "      <td>2021-11</td>\n",
       "      <td>Diet Ketogenic Diet Healthy Eating Healthy Lif...</td>\n",
       "    </tr>\n",
       "    <tr>\n",
       "      <th>101515</th>\n",
       "      <td>Mental Health Resources for Stress and Anxiety</td>\n",
       "      <td>People who need mental health support should b...</td>\n",
       "      <td>https://medium.com/@valentinoojedaavila-82371/...</td>\n",
       "      <td>Valentin Oojeda Avila</td>\n",
       "      <td>2020-12-17 14:25:12.322000+00:00</td>\n",
       "      <td>['Valentino Ojeda Avila', 'Mental Health Aware...</td>\n",
       "      <td>2408</td>\n",
       "      <td>2020-12</td>\n",
       "      <td>Valentino Ojeda Avila Mental Health Awareness ...</td>\n",
       "    </tr>\n",
       "    <tr>\n",
       "      <th>45748</th>\n",
       "      <td>ZLogger — Zero Allocation Logger for .NET Core...</td>\n",
       "      <td>I’ve just released a new logging library ZLogg...</td>\n",
       "      <td>https://neuecc.medium.com/zlogger-zero-allocat...</td>\n",
       "      <td>Yoshifumi Kawai</td>\n",
       "      <td>2020-05-01 13:19:15.424000+00:00</td>\n",
       "      <td>['Csharp', 'Aspnetcore', 'Logging']</td>\n",
       "      <td>1507</td>\n",
       "      <td>2020-05</td>\n",
       "      <td>Csharp Aspnetcore Logging</td>\n",
       "    </tr>\n",
       "  </tbody>\n",
       "</table>\n",
       "</div>"
      ],
      "text/plain": [
       "                                                    title  \\\n",
       "38372   Someone asked me why they notice pennies on th...   \n",
       "112723  Why I risked quitting my job in the middle of ...   \n",
       "188808  How to Become a Healthy Consumer: Healthy Eati...   \n",
       "101515     Mental Health Resources for Stress and Anxiety   \n",
       "45748   ZLogger — Zero Allocation Logger for .NET Core...   \n",
       "\n",
       "                                                     text  \\\n",
       "38372   Photo by Siora Photography on Unsplash\\n\\nI an...   \n",
       "112723  Hello world. This is my first publication onli...   \n",
       "188808  Healthy, happy people eat and shop often\\n\\n“L...   \n",
       "101515  People who need mental health support should b...   \n",
       "45748   I’ve just released a new logging library ZLogg...   \n",
       "\n",
       "                                                      url  \\\n",
       "38372   https://medium.com/illumination-curated/someon...   \n",
       "112723  https://medium.com/@meganrenner/why-i-risked-q...   \n",
       "188808  https://medium.com/@trippen/how-to-become-a-he...   \n",
       "101515  https://medium.com/@valentinoojedaavila-82371/...   \n",
       "45748   https://neuecc.medium.com/zlogger-zero-allocat...   \n",
       "\n",
       "                      authors                         timestamp  \\\n",
       "38372         Terry Mansfield  2020-12-20 01:13:06.340000+00:00   \n",
       "112723           Megan Renner  2020-12-17 00:40:21.951000+00:00   \n",
       "188808                         2021-11-28 08:25:17.366000+00:00   \n",
       "101515  Valentin Oojeda Avila  2020-12-17 14:25:12.322000+00:00   \n",
       "45748         Yoshifumi Kawai  2020-05-01 13:19:15.424000+00:00   \n",
       "\n",
       "                                                     tags  text_length  \\\n",
       "38372   ['Money', 'Short Form Content', 'Life Lessons'...          553   \n",
       "112723  ['Coaching', 'Career Advice', 'Quitting A Job'...         2089   \n",
       "188808  ['Diet', 'Ketogenic Diet', 'Healthy Eating', '...         3431   \n",
       "101515  ['Valentino Ojeda Avila', 'Mental Health Aware...         2408   \n",
       "45748                 ['Csharp', 'Aspnetcore', 'Logging']         1507   \n",
       "\n",
       "          month                                           tags_str  \n",
       "38372   2020-12  Money Short Form Content Life Lessons Self Sho...  \n",
       "112723  2020-12  Coaching Career Advice Quitting A Job Clarity ...  \n",
       "188808  2021-11  Diet Ketogenic Diet Healthy Eating Healthy Lif...  \n",
       "101515  2020-12  Valentino Ojeda Avila Mental Health Awareness ...  \n",
       "45748   2020-05                          Csharp Aspnetcore Logging  "
      ]
     },
     "execution_count": 17,
     "metadata": {},
     "output_type": "execute_result"
    }
   ],
   "source": [
    "df.head()"
   ]
  },
  {
   "cell_type": "code",
   "execution_count": 18,
   "metadata": {
    "execution": {
     "iopub.execute_input": "2023-01-18T03:57:12.689292Z",
     "iopub.status.busy": "2023-01-18T03:57:12.688737Z",
     "iopub.status.idle": "2023-01-18T03:57:12.721128Z",
     "shell.execute_reply": "2023-01-18T03:57:12.719947Z",
     "shell.execute_reply.started": "2023-01-18T03:57:12.689250Z"
    }
   },
   "outputs": [],
   "source": [
    "import re\n",
    "NON_ALPHANUM = re.compile(r'[\\W]')\n",
    "NON_ASCII = re.compile(r'[^a-z0-1\\s]')\n",
    "def normalize_texts(texts):\n",
    "    normalized_texts = \"\"\n",
    "    for text in texts:\n",
    "        lower = text.lower()\n",
    "        no_punctuation = NON_ALPHANUM.sub(r' ', lower)\n",
    "        no_non_ascii = NON_ASCII.sub(r'', no_punctuation)\n",
    "        normalized_texts += no_non_ascii\n",
    "    return normalized_texts"
   ]
  },
  {
   "cell_type": "code",
   "execution_count": 19,
   "metadata": {
    "execution": {
     "iopub.execute_input": "2023-01-18T03:57:38.067344Z",
     "iopub.status.busy": "2023-01-18T03:57:38.066775Z",
     "iopub.status.idle": "2023-01-18T03:57:38.266978Z",
     "shell.execute_reply": "2023-01-18T03:57:38.265309Z",
     "shell.execute_reply.started": "2023-01-18T03:57:38.067293Z"
    }
   },
   "outputs": [],
   "source": [
    "df['comb'] = df['text'] + df['tags_str'] + df['authors']"
   ]
  },
  {
   "cell_type": "code",
   "execution_count": 20,
   "metadata": {
    "execution": {
     "iopub.execute_input": "2023-01-18T03:57:39.197693Z",
     "iopub.status.busy": "2023-01-18T03:57:39.196754Z",
     "iopub.status.idle": "2023-01-18T03:57:39.217389Z",
     "shell.execute_reply": "2023-01-18T03:57:39.215857Z",
     "shell.execute_reply.started": "2023-01-18T03:57:39.197644Z"
    }
   },
   "outputs": [
    {
     "data": {
      "text/html": [
       "<div>\n",
       "<style scoped>\n",
       "    .dataframe tbody tr th:only-of-type {\n",
       "        vertical-align: middle;\n",
       "    }\n",
       "\n",
       "    .dataframe tbody tr th {\n",
       "        vertical-align: top;\n",
       "    }\n",
       "\n",
       "    .dataframe thead th {\n",
       "        text-align: right;\n",
       "    }\n",
       "</style>\n",
       "<table border=\"1\" class=\"dataframe\">\n",
       "  <thead>\n",
       "    <tr style=\"text-align: right;\">\n",
       "      <th></th>\n",
       "      <th>title</th>\n",
       "      <th>text</th>\n",
       "      <th>url</th>\n",
       "      <th>authors</th>\n",
       "      <th>timestamp</th>\n",
       "      <th>tags</th>\n",
       "      <th>text_length</th>\n",
       "      <th>month</th>\n",
       "      <th>tags_str</th>\n",
       "      <th>comb</th>\n",
       "    </tr>\n",
       "  </thead>\n",
       "  <tbody>\n",
       "    <tr>\n",
       "      <th>38372</th>\n",
       "      <td>Someone asked me why they notice pennies on th...</td>\n",
       "      <td>Photo by Siora Photography on Unsplash\\n\\nI an...</td>\n",
       "      <td>https://medium.com/illumination-curated/someon...</td>\n",
       "      <td>Terry Mansfield</td>\n",
       "      <td>2020-12-20 01:13:06.340000+00:00</td>\n",
       "      <td>['Money', 'Short Form Content', 'Life Lessons'...</td>\n",
       "      <td>553</td>\n",
       "      <td>2020-12</td>\n",
       "      <td>Money Short Form Content Life Lessons Self Sho...</td>\n",
       "      <td>Photo by Siora Photography on Unsplash\\n\\nI an...</td>\n",
       "    </tr>\n",
       "    <tr>\n",
       "      <th>112723</th>\n",
       "      <td>Why I risked quitting my job in the middle of ...</td>\n",
       "      <td>Hello world. This is my first publication onli...</td>\n",
       "      <td>https://medium.com/@meganrenner/why-i-risked-q...</td>\n",
       "      <td>Megan Renner</td>\n",
       "      <td>2020-12-17 00:40:21.951000+00:00</td>\n",
       "      <td>['Coaching', 'Career Advice', 'Quitting A Job'...</td>\n",
       "      <td>2089</td>\n",
       "      <td>2020-12</td>\n",
       "      <td>Coaching Career Advice Quitting A Job Clarity ...</td>\n",
       "      <td>Hello world. This is my first publication onli...</td>\n",
       "    </tr>\n",
       "    <tr>\n",
       "      <th>188808</th>\n",
       "      <td>How to Become a Healthy Consumer: Healthy Eati...</td>\n",
       "      <td>Healthy, happy people eat and shop often\\n\\n“L...</td>\n",
       "      <td>https://medium.com/@trippen/how-to-become-a-he...</td>\n",
       "      <td></td>\n",
       "      <td>2021-11-28 08:25:17.366000+00:00</td>\n",
       "      <td>['Diet', 'Ketogenic Diet', 'Healthy Eating', '...</td>\n",
       "      <td>3431</td>\n",
       "      <td>2021-11</td>\n",
       "      <td>Diet Ketogenic Diet Healthy Eating Healthy Lif...</td>\n",
       "      <td>Healthy, happy people eat and shop often\\n\\n“L...</td>\n",
       "    </tr>\n",
       "    <tr>\n",
       "      <th>101515</th>\n",
       "      <td>Mental Health Resources for Stress and Anxiety</td>\n",
       "      <td>People who need mental health support should b...</td>\n",
       "      <td>https://medium.com/@valentinoojedaavila-82371/...</td>\n",
       "      <td>Valentin Oojeda Avila</td>\n",
       "      <td>2020-12-17 14:25:12.322000+00:00</td>\n",
       "      <td>['Valentino Ojeda Avila', 'Mental Health Aware...</td>\n",
       "      <td>2408</td>\n",
       "      <td>2020-12</td>\n",
       "      <td>Valentino Ojeda Avila Mental Health Awareness ...</td>\n",
       "      <td>People who need mental health support should b...</td>\n",
       "    </tr>\n",
       "    <tr>\n",
       "      <th>45748</th>\n",
       "      <td>ZLogger — Zero Allocation Logger for .NET Core...</td>\n",
       "      <td>I’ve just released a new logging library ZLogg...</td>\n",
       "      <td>https://neuecc.medium.com/zlogger-zero-allocat...</td>\n",
       "      <td>Yoshifumi Kawai</td>\n",
       "      <td>2020-05-01 13:19:15.424000+00:00</td>\n",
       "      <td>['Csharp', 'Aspnetcore', 'Logging']</td>\n",
       "      <td>1507</td>\n",
       "      <td>2020-05</td>\n",
       "      <td>Csharp Aspnetcore Logging</td>\n",
       "      <td>I’ve just released a new logging library ZLogg...</td>\n",
       "    </tr>\n",
       "  </tbody>\n",
       "</table>\n",
       "</div>"
      ],
      "text/plain": [
       "                                                    title  \\\n",
       "38372   Someone asked me why they notice pennies on th...   \n",
       "112723  Why I risked quitting my job in the middle of ...   \n",
       "188808  How to Become a Healthy Consumer: Healthy Eati...   \n",
       "101515     Mental Health Resources for Stress and Anxiety   \n",
       "45748   ZLogger — Zero Allocation Logger for .NET Core...   \n",
       "\n",
       "                                                     text  \\\n",
       "38372   Photo by Siora Photography on Unsplash\\n\\nI an...   \n",
       "112723  Hello world. This is my first publication onli...   \n",
       "188808  Healthy, happy people eat and shop often\\n\\n“L...   \n",
       "101515  People who need mental health support should b...   \n",
       "45748   I’ve just released a new logging library ZLogg...   \n",
       "\n",
       "                                                      url  \\\n",
       "38372   https://medium.com/illumination-curated/someon...   \n",
       "112723  https://medium.com/@meganrenner/why-i-risked-q...   \n",
       "188808  https://medium.com/@trippen/how-to-become-a-he...   \n",
       "101515  https://medium.com/@valentinoojedaavila-82371/...   \n",
       "45748   https://neuecc.medium.com/zlogger-zero-allocat...   \n",
       "\n",
       "                      authors                         timestamp  \\\n",
       "38372         Terry Mansfield  2020-12-20 01:13:06.340000+00:00   \n",
       "112723           Megan Renner  2020-12-17 00:40:21.951000+00:00   \n",
       "188808                         2021-11-28 08:25:17.366000+00:00   \n",
       "101515  Valentin Oojeda Avila  2020-12-17 14:25:12.322000+00:00   \n",
       "45748         Yoshifumi Kawai  2020-05-01 13:19:15.424000+00:00   \n",
       "\n",
       "                                                     tags  text_length  \\\n",
       "38372   ['Money', 'Short Form Content', 'Life Lessons'...          553   \n",
       "112723  ['Coaching', 'Career Advice', 'Quitting A Job'...         2089   \n",
       "188808  ['Diet', 'Ketogenic Diet', 'Healthy Eating', '...         3431   \n",
       "101515  ['Valentino Ojeda Avila', 'Mental Health Aware...         2408   \n",
       "45748                 ['Csharp', 'Aspnetcore', 'Logging']         1507   \n",
       "\n",
       "          month                                           tags_str  \\\n",
       "38372   2020-12  Money Short Form Content Life Lessons Self Sho...   \n",
       "112723  2020-12  Coaching Career Advice Quitting A Job Clarity ...   \n",
       "188808  2021-11  Diet Ketogenic Diet Healthy Eating Healthy Lif...   \n",
       "101515  2020-12  Valentino Ojeda Avila Mental Health Awareness ...   \n",
       "45748   2020-05                          Csharp Aspnetcore Logging   \n",
       "\n",
       "                                                     comb  \n",
       "38372   Photo by Siora Photography on Unsplash\\n\\nI an...  \n",
       "112723  Hello world. This is my first publication onli...  \n",
       "188808  Healthy, happy people eat and shop often\\n\\n“L...  \n",
       "101515  People who need mental health support should b...  \n",
       "45748   I’ve just released a new logging library ZLogg...  "
      ]
     },
     "execution_count": 20,
     "metadata": {},
     "output_type": "execute_result"
    }
   ],
   "source": [
    "df.head()"
   ]
  },
  {
   "cell_type": "code",
   "execution_count": 21,
   "metadata": {
    "execution": {
     "iopub.execute_input": "2023-01-18T03:57:42.552420Z",
     "iopub.status.busy": "2023-01-18T03:57:42.551832Z",
     "iopub.status.idle": "2023-01-18T03:58:21.986312Z",
     "shell.execute_reply": "2023-01-18T03:58:21.985129Z",
     "shell.execute_reply.started": "2023-01-18T03:57:42.552374Z"
    }
   },
   "outputs": [],
   "source": [
    "df['comb'] = df['comb'].apply(normalize_texts)"
   ]
  },
  {
   "cell_type": "code",
   "execution_count": 22,
   "metadata": {},
   "outputs": [],
   "source": [
    "from nltk.stem import WordNetLemmatizer\n",
    "import nltk\n",
    "\n",
    "wordnet_lemmatizer = WordNetLemmatizer()\n",
    "df['comb_word'] = df['comb'].apply(lambda x: nltk.word_tokenize(x))"
   ]
  },
  {
   "cell_type": "code",
   "execution_count": 23,
   "metadata": {},
   "outputs": [],
   "source": [
    "df['comb_word'] = df['comb_word'].apply(lambda x: [wordnet_lemmatizer.lemmatize(word) for word in x])"
   ]
  },
  {
   "cell_type": "code",
   "execution_count": 24,
   "metadata": {},
   "outputs": [],
   "source": [
    "df['comb'] = df['comb_word'].apply(lambda x: ' '.join(x))"
   ]
  },
  {
   "cell_type": "code",
   "execution_count": 25,
   "metadata": {
    "execution": {
     "iopub.execute_input": "2023-01-18T03:58:22.033204Z",
     "iopub.status.busy": "2023-01-18T03:58:22.031893Z",
     "iopub.status.idle": "2023-01-18T03:58:22.047404Z",
     "shell.execute_reply": "2023-01-18T03:58:22.046079Z",
     "shell.execute_reply.started": "2023-01-18T03:58:22.033154Z"
    }
   },
   "outputs": [],
   "source": [
    "df.reset_index(inplace=True)"
   ]
  },
  {
   "cell_type": "code",
   "execution_count": 26,
   "metadata": {},
   "outputs": [
    {
     "data": {
      "text/html": [
       "<div>\n",
       "<style scoped>\n",
       "    .dataframe tbody tr th:only-of-type {\n",
       "        vertical-align: middle;\n",
       "    }\n",
       "\n",
       "    .dataframe tbody tr th {\n",
       "        vertical-align: top;\n",
       "    }\n",
       "\n",
       "    .dataframe thead th {\n",
       "        text-align: right;\n",
       "    }\n",
       "</style>\n",
       "<table border=\"1\" class=\"dataframe\">\n",
       "  <thead>\n",
       "    <tr style=\"text-align: right;\">\n",
       "      <th></th>\n",
       "      <th>index</th>\n",
       "      <th>title</th>\n",
       "      <th>text</th>\n",
       "      <th>url</th>\n",
       "      <th>authors</th>\n",
       "      <th>timestamp</th>\n",
       "      <th>tags</th>\n",
       "      <th>text_length</th>\n",
       "      <th>month</th>\n",
       "      <th>tags_str</th>\n",
       "      <th>comb</th>\n",
       "      <th>comb_word</th>\n",
       "    </tr>\n",
       "  </thead>\n",
       "  <tbody>\n",
       "    <tr>\n",
       "      <th>0</th>\n",
       "      <td>38372</td>\n",
       "      <td>Someone asked me why they notice pennies on th...</td>\n",
       "      <td>Photo by Siora Photography on Unsplash\\n\\nI an...</td>\n",
       "      <td>https://medium.com/illumination-curated/someon...</td>\n",
       "      <td>Terry Mansfield</td>\n",
       "      <td>2020-12-20 01:13:06.340000+00:00</td>\n",
       "      <td>['Money', 'Short Form Content', 'Life Lessons'...</td>\n",
       "      <td>553</td>\n",
       "      <td>2020-12</td>\n",
       "      <td>Money Short Form Content Life Lessons Self Sho...</td>\n",
       "      <td>photo by siora photography on unsplash i answe...</td>\n",
       "      <td>[photo, by, siora, photography, on, unsplash, ...</td>\n",
       "    </tr>\n",
       "    <tr>\n",
       "      <th>1</th>\n",
       "      <td>112723</td>\n",
       "      <td>Why I risked quitting my job in the middle of ...</td>\n",
       "      <td>Hello world. This is my first publication onli...</td>\n",
       "      <td>https://medium.com/@meganrenner/why-i-risked-q...</td>\n",
       "      <td>Megan Renner</td>\n",
       "      <td>2020-12-17 00:40:21.951000+00:00</td>\n",
       "      <td>['Coaching', 'Career Advice', 'Quitting A Job'...</td>\n",
       "      <td>2089</td>\n",
       "      <td>2020-12</td>\n",
       "      <td>Coaching Career Advice Quitting A Job Clarity ...</td>\n",
       "      <td>hello world this is my first publication onlin...</td>\n",
       "      <td>[hello, world, this, is, my, first, publicatio...</td>\n",
       "    </tr>\n",
       "    <tr>\n",
       "      <th>2</th>\n",
       "      <td>188808</td>\n",
       "      <td>How to Become a Healthy Consumer: Healthy Eati...</td>\n",
       "      <td>Healthy, happy people eat and shop often\\n\\n“L...</td>\n",
       "      <td>https://medium.com/@trippen/how-to-become-a-he...</td>\n",
       "      <td></td>\n",
       "      <td>2021-11-28 08:25:17.366000+00:00</td>\n",
       "      <td>['Diet', 'Ketogenic Diet', 'Healthy Eating', '...</td>\n",
       "      <td>3431</td>\n",
       "      <td>2021-11</td>\n",
       "      <td>Diet Ketogenic Diet Healthy Eating Healthy Lif...</td>\n",
       "      <td>healthy happy people eat and shop often let s ...</td>\n",
       "      <td>[healthy, happy, people, eat, and, shop, often...</td>\n",
       "    </tr>\n",
       "    <tr>\n",
       "      <th>3</th>\n",
       "      <td>101515</td>\n",
       "      <td>Mental Health Resources for Stress and Anxiety</td>\n",
       "      <td>People who need mental health support should b...</td>\n",
       "      <td>https://medium.com/@valentinoojedaavila-82371/...</td>\n",
       "      <td>Valentin Oojeda Avila</td>\n",
       "      <td>2020-12-17 14:25:12.322000+00:00</td>\n",
       "      <td>['Valentino Ojeda Avila', 'Mental Health Aware...</td>\n",
       "      <td>2408</td>\n",
       "      <td>2020-12</td>\n",
       "      <td>Valentino Ojeda Avila Mental Health Awareness ...</td>\n",
       "      <td>people who need mental health support should b...</td>\n",
       "      <td>[people, who, need, mental, health, support, s...</td>\n",
       "    </tr>\n",
       "    <tr>\n",
       "      <th>4</th>\n",
       "      <td>45748</td>\n",
       "      <td>ZLogger — Zero Allocation Logger for .NET Core...</td>\n",
       "      <td>I’ve just released a new logging library ZLogg...</td>\n",
       "      <td>https://neuecc.medium.com/zlogger-zero-allocat...</td>\n",
       "      <td>Yoshifumi Kawai</td>\n",
       "      <td>2020-05-01 13:19:15.424000+00:00</td>\n",
       "      <td>['Csharp', 'Aspnetcore', 'Logging']</td>\n",
       "      <td>1507</td>\n",
       "      <td>2020-05</td>\n",
       "      <td>Csharp Aspnetcore Logging</td>\n",
       "      <td>i ve just released a new logging library zlogg...</td>\n",
       "      <td>[i, ve, just, released, a, new, logging, libra...</td>\n",
       "    </tr>\n",
       "  </tbody>\n",
       "</table>\n",
       "</div>"
      ],
      "text/plain": [
       "    index                                              title  \\\n",
       "0   38372  Someone asked me why they notice pennies on th...   \n",
       "1  112723  Why I risked quitting my job in the middle of ...   \n",
       "2  188808  How to Become a Healthy Consumer: Healthy Eati...   \n",
       "3  101515     Mental Health Resources for Stress and Anxiety   \n",
       "4   45748  ZLogger — Zero Allocation Logger for .NET Core...   \n",
       "\n",
       "                                                text  \\\n",
       "0  Photo by Siora Photography on Unsplash\\n\\nI an...   \n",
       "1  Hello world. This is my first publication onli...   \n",
       "2  Healthy, happy people eat and shop often\\n\\n“L...   \n",
       "3  People who need mental health support should b...   \n",
       "4  I’ve just released a new logging library ZLogg...   \n",
       "\n",
       "                                                 url                authors  \\\n",
       "0  https://medium.com/illumination-curated/someon...        Terry Mansfield   \n",
       "1  https://medium.com/@meganrenner/why-i-risked-q...           Megan Renner   \n",
       "2  https://medium.com/@trippen/how-to-become-a-he...                          \n",
       "3  https://medium.com/@valentinoojedaavila-82371/...  Valentin Oojeda Avila   \n",
       "4  https://neuecc.medium.com/zlogger-zero-allocat...        Yoshifumi Kawai   \n",
       "\n",
       "                          timestamp  \\\n",
       "0  2020-12-20 01:13:06.340000+00:00   \n",
       "1  2020-12-17 00:40:21.951000+00:00   \n",
       "2  2021-11-28 08:25:17.366000+00:00   \n",
       "3  2020-12-17 14:25:12.322000+00:00   \n",
       "4  2020-05-01 13:19:15.424000+00:00   \n",
       "\n",
       "                                                tags  text_length    month  \\\n",
       "0  ['Money', 'Short Form Content', 'Life Lessons'...          553  2020-12   \n",
       "1  ['Coaching', 'Career Advice', 'Quitting A Job'...         2089  2020-12   \n",
       "2  ['Diet', 'Ketogenic Diet', 'Healthy Eating', '...         3431  2021-11   \n",
       "3  ['Valentino Ojeda Avila', 'Mental Health Aware...         2408  2020-12   \n",
       "4                ['Csharp', 'Aspnetcore', 'Logging']         1507  2020-05   \n",
       "\n",
       "                                            tags_str  \\\n",
       "0  Money Short Form Content Life Lessons Self Sho...   \n",
       "1  Coaching Career Advice Quitting A Job Clarity ...   \n",
       "2  Diet Ketogenic Diet Healthy Eating Healthy Lif...   \n",
       "3  Valentino Ojeda Avila Mental Health Awareness ...   \n",
       "4                          Csharp Aspnetcore Logging   \n",
       "\n",
       "                                                comb  \\\n",
       "0  photo by siora photography on unsplash i answe...   \n",
       "1  hello world this is my first publication onlin...   \n",
       "2  healthy happy people eat and shop often let s ...   \n",
       "3  people who need mental health support should b...   \n",
       "4  i ve just released a new logging library zlogg...   \n",
       "\n",
       "                                           comb_word  \n",
       "0  [photo, by, siora, photography, on, unsplash, ...  \n",
       "1  [hello, world, this, is, my, first, publicatio...  \n",
       "2  [healthy, happy, people, eat, and, shop, often...  \n",
       "3  [people, who, need, mental, health, support, s...  \n",
       "4  [i, ve, just, released, a, new, logging, libra...  "
      ]
     },
     "execution_count": 26,
     "metadata": {},
     "output_type": "execute_result"
    }
   ],
   "source": [
    "df.head()"
   ]
  },
  {
   "cell_type": "code",
   "execution_count": 27,
   "metadata": {},
   "outputs": [],
   "source": [
    "df.drop(columns=['timestamp', 'month', 'text_length', 'comb_word', 'tags_str'], inplace=True)"
   ]
  },
  {
   "cell_type": "code",
   "execution_count": 28,
   "metadata": {},
   "outputs": [
    {
     "data": {
      "text/html": [
       "<div>\n",
       "<style scoped>\n",
       "    .dataframe tbody tr th:only-of-type {\n",
       "        vertical-align: middle;\n",
       "    }\n",
       "\n",
       "    .dataframe tbody tr th {\n",
       "        vertical-align: top;\n",
       "    }\n",
       "\n",
       "    .dataframe thead th {\n",
       "        text-align: right;\n",
       "    }\n",
       "</style>\n",
       "<table border=\"1\" class=\"dataframe\">\n",
       "  <thead>\n",
       "    <tr style=\"text-align: right;\">\n",
       "      <th></th>\n",
       "      <th>index</th>\n",
       "      <th>title</th>\n",
       "      <th>text</th>\n",
       "      <th>url</th>\n",
       "      <th>authors</th>\n",
       "      <th>tags</th>\n",
       "      <th>tags_str</th>\n",
       "      <th>comb</th>\n",
       "    </tr>\n",
       "  </thead>\n",
       "  <tbody>\n",
       "    <tr>\n",
       "      <th>0</th>\n",
       "      <td>38372</td>\n",
       "      <td>Someone asked me why they notice pennies on th...</td>\n",
       "      <td>Photo by Siora Photography on Unsplash\\n\\nI an...</td>\n",
       "      <td>https://medium.com/illumination-curated/someon...</td>\n",
       "      <td>Terry Mansfield</td>\n",
       "      <td>['Money', 'Short Form Content', 'Life Lessons'...</td>\n",
       "      <td>Money Short Form Content Life Lessons Self Sho...</td>\n",
       "      <td>photo by siora photography on unsplash i answe...</td>\n",
       "    </tr>\n",
       "    <tr>\n",
       "      <th>1</th>\n",
       "      <td>112723</td>\n",
       "      <td>Why I risked quitting my job in the middle of ...</td>\n",
       "      <td>Hello world. This is my first publication onli...</td>\n",
       "      <td>https://medium.com/@meganrenner/why-i-risked-q...</td>\n",
       "      <td>Megan Renner</td>\n",
       "      <td>['Coaching', 'Career Advice', 'Quitting A Job'...</td>\n",
       "      <td>Coaching Career Advice Quitting A Job Clarity ...</td>\n",
       "      <td>hello world this is my first publication onlin...</td>\n",
       "    </tr>\n",
       "    <tr>\n",
       "      <th>2</th>\n",
       "      <td>188808</td>\n",
       "      <td>How to Become a Healthy Consumer: Healthy Eati...</td>\n",
       "      <td>Healthy, happy people eat and shop often\\n\\n“L...</td>\n",
       "      <td>https://medium.com/@trippen/how-to-become-a-he...</td>\n",
       "      <td></td>\n",
       "      <td>['Diet', 'Ketogenic Diet', 'Healthy Eating', '...</td>\n",
       "      <td>Diet Ketogenic Diet Healthy Eating Healthy Lif...</td>\n",
       "      <td>healthy happy people eat and shop often let s ...</td>\n",
       "    </tr>\n",
       "    <tr>\n",
       "      <th>3</th>\n",
       "      <td>101515</td>\n",
       "      <td>Mental Health Resources for Stress and Anxiety</td>\n",
       "      <td>People who need mental health support should b...</td>\n",
       "      <td>https://medium.com/@valentinoojedaavila-82371/...</td>\n",
       "      <td>Valentin Oojeda Avila</td>\n",
       "      <td>['Valentino Ojeda Avila', 'Mental Health Aware...</td>\n",
       "      <td>Valentino Ojeda Avila Mental Health Awareness ...</td>\n",
       "      <td>people who need mental health support should b...</td>\n",
       "    </tr>\n",
       "    <tr>\n",
       "      <th>4</th>\n",
       "      <td>45748</td>\n",
       "      <td>ZLogger — Zero Allocation Logger for .NET Core...</td>\n",
       "      <td>I’ve just released a new logging library ZLogg...</td>\n",
       "      <td>https://neuecc.medium.com/zlogger-zero-allocat...</td>\n",
       "      <td>Yoshifumi Kawai</td>\n",
       "      <td>['Csharp', 'Aspnetcore', 'Logging']</td>\n",
       "      <td>Csharp Aspnetcore Logging</td>\n",
       "      <td>i ve just released a new logging library zlogg...</td>\n",
       "    </tr>\n",
       "  </tbody>\n",
       "</table>\n",
       "</div>"
      ],
      "text/plain": [
       "    index                                              title  \\\n",
       "0   38372  Someone asked me why they notice pennies on th...   \n",
       "1  112723  Why I risked quitting my job in the middle of ...   \n",
       "2  188808  How to Become a Healthy Consumer: Healthy Eati...   \n",
       "3  101515     Mental Health Resources for Stress and Anxiety   \n",
       "4   45748  ZLogger — Zero Allocation Logger for .NET Core...   \n",
       "\n",
       "                                                text  \\\n",
       "0  Photo by Siora Photography on Unsplash\\n\\nI an...   \n",
       "1  Hello world. This is my first publication onli...   \n",
       "2  Healthy, happy people eat and shop often\\n\\n“L...   \n",
       "3  People who need mental health support should b...   \n",
       "4  I’ve just released a new logging library ZLogg...   \n",
       "\n",
       "                                                 url                authors  \\\n",
       "0  https://medium.com/illumination-curated/someon...        Terry Mansfield   \n",
       "1  https://medium.com/@meganrenner/why-i-risked-q...           Megan Renner   \n",
       "2  https://medium.com/@trippen/how-to-become-a-he...                          \n",
       "3  https://medium.com/@valentinoojedaavila-82371/...  Valentin Oojeda Avila   \n",
       "4  https://neuecc.medium.com/zlogger-zero-allocat...        Yoshifumi Kawai   \n",
       "\n",
       "                                                tags  \\\n",
       "0  ['Money', 'Short Form Content', 'Life Lessons'...   \n",
       "1  ['Coaching', 'Career Advice', 'Quitting A Job'...   \n",
       "2  ['Diet', 'Ketogenic Diet', 'Healthy Eating', '...   \n",
       "3  ['Valentino Ojeda Avila', 'Mental Health Aware...   \n",
       "4                ['Csharp', 'Aspnetcore', 'Logging']   \n",
       "\n",
       "                                            tags_str  \\\n",
       "0  Money Short Form Content Life Lessons Self Sho...   \n",
       "1  Coaching Career Advice Quitting A Job Clarity ...   \n",
       "2  Diet Ketogenic Diet Healthy Eating Healthy Lif...   \n",
       "3  Valentino Ojeda Avila Mental Health Awareness ...   \n",
       "4                          Csharp Aspnetcore Logging   \n",
       "\n",
       "                                                comb  \n",
       "0  photo by siora photography on unsplash i answe...  \n",
       "1  hello world this is my first publication onlin...  \n",
       "2  healthy happy people eat and shop often let s ...  \n",
       "3  people who need mental health support should b...  \n",
       "4  i ve just released a new logging library zlogg...  "
      ]
     },
     "execution_count": 28,
     "metadata": {},
     "output_type": "execute_result"
    }
   ],
   "source": [
    "df.head()"
   ]
  },
  {
   "cell_type": "code",
   "execution_count": 29,
   "metadata": {},
   "outputs": [],
   "source": [
    "df.drop(columns=['tags_str'], inplace=True)"
   ]
  },
  {
   "cell_type": "code",
   "execution_count": 30,
   "metadata": {},
   "outputs": [],
   "source": [
    "df.to_csv('medium_articles_cleaned.csv', index=False)"
   ]
  },
  {
   "cell_type": "code",
   "execution_count": 31,
   "metadata": {
    "execution": {
     "iopub.execute_input": "2023-01-18T03:58:24.662516Z",
     "iopub.status.busy": "2023-01-18T03:58:24.661986Z",
     "iopub.status.idle": "2023-01-18T03:58:31.459698Z",
     "shell.execute_reply": "2023-01-18T03:58:31.458351Z",
     "shell.execute_reply.started": "2023-01-18T03:58:24.662467Z"
    }
   },
   "outputs": [
    {
     "data": {
      "text/plain": [
       "(5000, 4096)"
      ]
     },
     "execution_count": 31,
     "metadata": {},
     "output_type": "execute_result"
    }
   ],
   "source": [
    "from sklearn.feature_extraction.text import TfidfVectorizer\n",
    "def vectorize(text, maxx_features):\n",
    "    vectorizer = TfidfVectorizer(max_features=maxx_features, stop_words='english')\n",
    "    X = vectorizer.fit_transform(text)\n",
    "    return X\n",
    "text = df['comb'].values\n",
    "X = vectorize(text, 2 ** 12)\n",
    "X.shape"
   ]
  },
  {
   "cell_type": "code",
   "execution_count": 32,
   "metadata": {
    "execution": {
     "iopub.execute_input": "2023-01-18T03:58:33.927475Z",
     "iopub.status.busy": "2023-01-18T03:58:33.926148Z",
     "iopub.status.idle": "2023-01-18T03:59:41.478743Z",
     "shell.execute_reply": "2023-01-18T03:59:41.477509Z",
     "shell.execute_reply.started": "2023-01-18T03:58:33.927405Z"
    }
   },
   "outputs": [
    {
     "data": {
      "text/plain": [
       "(5000, 2268)"
      ]
     },
     "execution_count": 32,
     "metadata": {},
     "output_type": "execute_result"
    }
   ],
   "source": [
    "from sklearn.decomposition import PCA\n",
    "\n",
    "pca = PCA(n_components=0.95, random_state=42)\n",
    "X_reduced= pca.fit_transform(X.toarray())\n",
    "X_reduced.shape"
   ]
  },
  {
   "cell_type": "code",
   "execution_count": 33,
   "metadata": {
    "execution": {
     "iopub.execute_input": "2023-01-18T03:59:41.481201Z",
     "iopub.status.busy": "2023-01-18T03:59:41.480809Z",
     "iopub.status.idle": "2023-01-18T03:59:46.905878Z",
     "shell.execute_reply": "2023-01-18T03:59:46.904676Z",
     "shell.execute_reply.started": "2023-01-18T03:59:41.481164Z"
    }
   },
   "outputs": [],
   "source": [
    "from sklearn.metrics.pairwise import cosine_similarity\n",
    "sim = cosine_similarity(X_reduced)"
   ]
  },
  {
   "cell_type": "code",
   "execution_count": 34,
   "metadata": {},
   "outputs": [
    {
     "data": {
      "text/plain": [
       "array([[ 1.00000000e+00, -1.38961078e-02,  7.88445601e-02, ...,\n",
       "        -1.40890383e-02,  2.36797090e-02, -1.62487833e-03],\n",
       "       [-1.38961078e-02,  1.00000000e+00,  4.94206081e-03, ...,\n",
       "         5.18045245e-02, -2.45038498e-02,  6.14993516e-02],\n",
       "       [ 7.88445601e-02,  4.94206081e-03,  1.00000000e+00, ...,\n",
       "         3.61667315e-02, -9.83420393e-04,  1.28668219e-02],\n",
       "       ...,\n",
       "       [-1.40890383e-02,  5.18045245e-02,  3.61667315e-02, ...,\n",
       "         1.00000000e+00,  1.90608816e-03, -2.11258632e-02],\n",
       "       [ 2.36797090e-02, -2.45038498e-02, -9.83420393e-04, ...,\n",
       "         1.90608816e-03,  1.00000000e+00, -1.67583717e-02],\n",
       "       [-1.62487833e-03,  6.14993516e-02,  1.28668219e-02, ...,\n",
       "        -2.11258632e-02, -1.67583717e-02,  1.00000000e+00]])"
      ]
     },
     "execution_count": 34,
     "metadata": {},
     "output_type": "execute_result"
    }
   ],
   "source": [
    "sim"
   ]
  },
  {
   "cell_type": "code",
   "execution_count": 6,
   "metadata": {
    "execution": {
     "iopub.execute_input": "2023-01-18T03:59:46.908123Z",
     "iopub.status.busy": "2023-01-18T03:59:46.907574Z",
     "iopub.status.idle": "2023-01-18T03:59:46.917338Z",
     "shell.execute_reply": "2023-01-18T03:59:46.916309Z",
     "shell.execute_reply.started": "2023-01-18T03:59:46.908071Z"
    }
   },
   "outputs": [],
   "source": [
    "def recommend(index):\n",
    "    ind = df[df['index'] == index].index[0]\n",
    "    distances = sorted(\n",
    "        list(enumerate(sim[ind])), reverse=True, key=lambda x: x[1])\n",
    "    rec = [df.iloc[i[0]]['index'] for i in distances[1:11]]\n",
    "    return rec"
   ]
  },
  {
   "cell_type": "code",
   "execution_count": 45,
   "metadata": {},
   "outputs": [
    {
     "data": {
      "text/html": [
       "<div>\n",
       "<style scoped>\n",
       "    .dataframe tbody tr th:only-of-type {\n",
       "        vertical-align: middle;\n",
       "    }\n",
       "\n",
       "    .dataframe tbody tr th {\n",
       "        vertical-align: top;\n",
       "    }\n",
       "\n",
       "    .dataframe thead th {\n",
       "        text-align: right;\n",
       "    }\n",
       "</style>\n",
       "<table border=\"1\" class=\"dataframe\">\n",
       "  <thead>\n",
       "    <tr style=\"text-align: right;\">\n",
       "      <th></th>\n",
       "      <th>index</th>\n",
       "      <th>title</th>\n",
       "      <th>text</th>\n",
       "      <th>url</th>\n",
       "      <th>authors</th>\n",
       "      <th>tags</th>\n",
       "      <th>comb</th>\n",
       "    </tr>\n",
       "  </thead>\n",
       "  <tbody>\n",
       "    <tr>\n",
       "      <th>0</th>\n",
       "      <td>38372</td>\n",
       "      <td>Someone asked me why they notice pennies on th...</td>\n",
       "      <td>Photo by Siora Photography on Unsplash\\n\\nI an...</td>\n",
       "      <td>https://medium.com/illumination-curated/someon...</td>\n",
       "      <td>Terry Mansfield</td>\n",
       "      <td>['Money', 'Short Form Content', 'Life Lessons'...</td>\n",
       "      <td>photo by siora photography on unsplash i answe...</td>\n",
       "    </tr>\n",
       "    <tr>\n",
       "      <th>1</th>\n",
       "      <td>112723</td>\n",
       "      <td>Why I risked quitting my job in the middle of ...</td>\n",
       "      <td>Hello world. This is my first publication onli...</td>\n",
       "      <td>https://medium.com/@meganrenner/why-i-risked-q...</td>\n",
       "      <td>Megan Renner</td>\n",
       "      <td>['Coaching', 'Career Advice', 'Quitting A Job'...</td>\n",
       "      <td>hello world this is my first publication onlin...</td>\n",
       "    </tr>\n",
       "    <tr>\n",
       "      <th>2</th>\n",
       "      <td>188808</td>\n",
       "      <td>How to Become a Healthy Consumer: Healthy Eati...</td>\n",
       "      <td>Healthy, happy people eat and shop often\\n\\n“L...</td>\n",
       "      <td>https://medium.com/@trippen/how-to-become-a-he...</td>\n",
       "      <td></td>\n",
       "      <td>['Diet', 'Ketogenic Diet', 'Healthy Eating', '...</td>\n",
       "      <td>healthy happy people eat and shop often let s ...</td>\n",
       "    </tr>\n",
       "    <tr>\n",
       "      <th>3</th>\n",
       "      <td>101515</td>\n",
       "      <td>Mental Health Resources for Stress and Anxiety</td>\n",
       "      <td>People who need mental health support should b...</td>\n",
       "      <td>https://medium.com/@valentinoojedaavila-82371/...</td>\n",
       "      <td>Valentin Oojeda Avila</td>\n",
       "      <td>['Valentino Ojeda Avila', 'Mental Health Aware...</td>\n",
       "      <td>people who need mental health support should b...</td>\n",
       "    </tr>\n",
       "    <tr>\n",
       "      <th>4</th>\n",
       "      <td>45748</td>\n",
       "      <td>ZLogger — Zero Allocation Logger for .NET Core...</td>\n",
       "      <td>I’ve just released a new logging library ZLogg...</td>\n",
       "      <td>https://neuecc.medium.com/zlogger-zero-allocat...</td>\n",
       "      <td>Yoshifumi Kawai</td>\n",
       "      <td>['Csharp', 'Aspnetcore', 'Logging']</td>\n",
       "      <td>i ve just released a new logging library zlogg...</td>\n",
       "    </tr>\n",
       "  </tbody>\n",
       "</table>\n",
       "</div>"
      ],
      "text/plain": [
       "    index                                              title  \\\n",
       "0   38372  Someone asked me why they notice pennies on th...   \n",
       "1  112723  Why I risked quitting my job in the middle of ...   \n",
       "2  188808  How to Become a Healthy Consumer: Healthy Eati...   \n",
       "3  101515     Mental Health Resources for Stress and Anxiety   \n",
       "4   45748  ZLogger — Zero Allocation Logger for .NET Core...   \n",
       "\n",
       "                                                text  \\\n",
       "0  Photo by Siora Photography on Unsplash\\n\\nI an...   \n",
       "1  Hello world. This is my first publication onli...   \n",
       "2  Healthy, happy people eat and shop often\\n\\n“L...   \n",
       "3  People who need mental health support should b...   \n",
       "4  I’ve just released a new logging library ZLogg...   \n",
       "\n",
       "                                                 url                authors  \\\n",
       "0  https://medium.com/illumination-curated/someon...        Terry Mansfield   \n",
       "1  https://medium.com/@meganrenner/why-i-risked-q...           Megan Renner   \n",
       "2  https://medium.com/@trippen/how-to-become-a-he...                          \n",
       "3  https://medium.com/@valentinoojedaavila-82371/...  Valentin Oojeda Avila   \n",
       "4  https://neuecc.medium.com/zlogger-zero-allocat...        Yoshifumi Kawai   \n",
       "\n",
       "                                                tags  \\\n",
       "0  ['Money', 'Short Form Content', 'Life Lessons'...   \n",
       "1  ['Coaching', 'Career Advice', 'Quitting A Job'...   \n",
       "2  ['Diet', 'Ketogenic Diet', 'Healthy Eating', '...   \n",
       "3  ['Valentino Ojeda Avila', 'Mental Health Aware...   \n",
       "4                ['Csharp', 'Aspnetcore', 'Logging']   \n",
       "\n",
       "                                                comb  \n",
       "0  photo by siora photography on unsplash i answe...  \n",
       "1  hello world this is my first publication onlin...  \n",
       "2  healthy happy people eat and shop often let s ...  \n",
       "3  people who need mental health support should b...  \n",
       "4  i ve just released a new logging library zlogg...  "
      ]
     },
     "execution_count": 45,
     "metadata": {},
     "output_type": "execute_result"
    }
   ],
   "source": [
    "df.head()"
   ]
  },
  {
   "cell_type": "code",
   "execution_count": 46,
   "metadata": {
    "execution": {
     "iopub.execute_input": "2023-01-18T04:00:43.853849Z",
     "iopub.status.busy": "2023-01-18T04:00:43.852513Z",
     "iopub.status.idle": "2023-01-18T04:00:43.880310Z",
     "shell.execute_reply": "2023-01-18T04:00:43.878719Z",
     "shell.execute_reply.started": "2023-01-18T04:00:43.853790Z"
    }
   },
   "outputs": [
    {
     "data": {
      "text/plain": [
       "[14351, 115832, 116106, 129320, 86680, 112303, 5554, 59169, 92505, 90752]"
      ]
     },
     "execution_count": 46,
     "metadata": {},
     "output_type": "execute_result"
    }
   ],
   "source": [
    "recommend(101515)"
   ]
  },
  {
   "cell_type": "code",
   "execution_count": 47,
   "metadata": {},
   "outputs": [
    {
     "data": {
      "text/plain": [
       "['similarity.pkl']"
      ]
     },
     "execution_count": 47,
     "metadata": {},
     "output_type": "execute_result"
    }
   ],
   "source": [
    "import joblib\n",
    "joblib.dump(sim, 'similarity.pkl')"
   ]
  },
  {
   "cell_type": "code",
   "execution_count": 17,
   "metadata": {},
   "outputs": [],
   "source": [
    "df = pd.read_csv('medium_articles_cleaned.csv')"
   ]
  },
  {
   "cell_type": "code",
   "execution_count": 21,
   "metadata": {},
   "outputs": [
    {
     "ename": "KeyError",
     "evalue": "255",
     "output_type": "error",
     "traceback": [
      "\u001b[1;31m---------------------------------------------------------------------------\u001b[0m",
      "\u001b[1;31mKeyError\u001b[0m                                  Traceback (most recent call last)",
      "\u001b[1;32m~\\AppData\\Local\\Temp/ipykernel_18024/2288429714.py\u001b[0m in \u001b[0;36m<module>\u001b[1;34m\u001b[0m\n\u001b[0;32m      1\u001b[0m \u001b[1;32mimport\u001b[0m \u001b[0mjoblib\u001b[0m\u001b[1;33m\u001b[0m\u001b[1;33m\u001b[0m\u001b[0m\n\u001b[1;32m----> 2\u001b[1;33m \u001b[0msim\u001b[0m \u001b[1;33m=\u001b[0m \u001b[0mjoblib\u001b[0m\u001b[1;33m.\u001b[0m\u001b[0mload\u001b[0m\u001b[1;33m(\u001b[0m\u001b[1;34m\"similarity.pkl\"\u001b[0m\u001b[1;33m)\u001b[0m\u001b[1;33m\u001b[0m\u001b[1;33m\u001b[0m\u001b[0m\n\u001b[0m",
      "\u001b[1;32m~\\anaconda3\\lib\\site-packages\\joblib\\numpy_pickle.py\u001b[0m in \u001b[0;36mload\u001b[1;34m(filename, mmap_mode)\u001b[0m\n\u001b[0;32m    585\u001b[0m                     \u001b[1;32mreturn\u001b[0m \u001b[0mload_compatibility\u001b[0m\u001b[1;33m(\u001b[0m\u001b[0mfobj\u001b[0m\u001b[1;33m)\u001b[0m\u001b[1;33m\u001b[0m\u001b[1;33m\u001b[0m\u001b[0m\n\u001b[0;32m    586\u001b[0m \u001b[1;33m\u001b[0m\u001b[0m\n\u001b[1;32m--> 587\u001b[1;33m                 \u001b[0mobj\u001b[0m \u001b[1;33m=\u001b[0m \u001b[0m_unpickle\u001b[0m\u001b[1;33m(\u001b[0m\u001b[0mfobj\u001b[0m\u001b[1;33m,\u001b[0m \u001b[0mfilename\u001b[0m\u001b[1;33m,\u001b[0m \u001b[0mmmap_mode\u001b[0m\u001b[1;33m)\u001b[0m\u001b[1;33m\u001b[0m\u001b[1;33m\u001b[0m\u001b[0m\n\u001b[0m\u001b[0;32m    588\u001b[0m     \u001b[1;32mreturn\u001b[0m \u001b[0mobj\u001b[0m\u001b[1;33m\u001b[0m\u001b[1;33m\u001b[0m\u001b[0m\n",
      "\u001b[1;32m~\\anaconda3\\lib\\site-packages\\joblib\\numpy_pickle.py\u001b[0m in \u001b[0;36m_unpickle\u001b[1;34m(fobj, filename, mmap_mode)\u001b[0m\n\u001b[0;32m    504\u001b[0m     \u001b[0mobj\u001b[0m \u001b[1;33m=\u001b[0m \u001b[1;32mNone\u001b[0m\u001b[1;33m\u001b[0m\u001b[1;33m\u001b[0m\u001b[0m\n\u001b[0;32m    505\u001b[0m     \u001b[1;32mtry\u001b[0m\u001b[1;33m:\u001b[0m\u001b[1;33m\u001b[0m\u001b[1;33m\u001b[0m\u001b[0m\n\u001b[1;32m--> 506\u001b[1;33m         \u001b[0mobj\u001b[0m \u001b[1;33m=\u001b[0m \u001b[0munpickler\u001b[0m\u001b[1;33m.\u001b[0m\u001b[0mload\u001b[0m\u001b[1;33m(\u001b[0m\u001b[1;33m)\u001b[0m\u001b[1;33m\u001b[0m\u001b[1;33m\u001b[0m\u001b[0m\n\u001b[0m\u001b[0;32m    507\u001b[0m         \u001b[1;32mif\u001b[0m \u001b[0munpickler\u001b[0m\u001b[1;33m.\u001b[0m\u001b[0mcompat_mode\u001b[0m\u001b[1;33m:\u001b[0m\u001b[1;33m\u001b[0m\u001b[1;33m\u001b[0m\u001b[0m\n\u001b[0;32m    508\u001b[0m             warnings.warn(\"The file '%s' has been generated with a \"\n",
      "\u001b[1;32m~\\anaconda3\\lib\\pickle.py\u001b[0m in \u001b[0;36mload\u001b[1;34m(self)\u001b[0m\n\u001b[0;32m   1210\u001b[0m                     \u001b[1;32mraise\u001b[0m \u001b[0mEOFError\u001b[0m\u001b[1;33m\u001b[0m\u001b[1;33m\u001b[0m\u001b[0m\n\u001b[0;32m   1211\u001b[0m                 \u001b[1;32massert\u001b[0m \u001b[0misinstance\u001b[0m\u001b[1;33m(\u001b[0m\u001b[0mkey\u001b[0m\u001b[1;33m,\u001b[0m \u001b[0mbytes_types\u001b[0m\u001b[1;33m)\u001b[0m\u001b[1;33m\u001b[0m\u001b[1;33m\u001b[0m\u001b[0m\n\u001b[1;32m-> 1212\u001b[1;33m                 \u001b[0mdispatch\u001b[0m\u001b[1;33m[\u001b[0m\u001b[0mkey\u001b[0m\u001b[1;33m[\u001b[0m\u001b[1;36m0\u001b[0m\u001b[1;33m]\u001b[0m\u001b[1;33m]\u001b[0m\u001b[1;33m(\u001b[0m\u001b[0mself\u001b[0m\u001b[1;33m)\u001b[0m\u001b[1;33m\u001b[0m\u001b[1;33m\u001b[0m\u001b[0m\n\u001b[0m\u001b[0;32m   1213\u001b[0m         \u001b[1;32mexcept\u001b[0m \u001b[0m_Stop\u001b[0m \u001b[1;32mas\u001b[0m \u001b[0mstopinst\u001b[0m\u001b[1;33m:\u001b[0m\u001b[1;33m\u001b[0m\u001b[1;33m\u001b[0m\u001b[0m\n\u001b[0;32m   1214\u001b[0m             \u001b[1;32mreturn\u001b[0m \u001b[0mstopinst\u001b[0m\u001b[1;33m.\u001b[0m\u001b[0mvalue\u001b[0m\u001b[1;33m\u001b[0m\u001b[1;33m\u001b[0m\u001b[0m\n",
      "\u001b[1;31mKeyError\u001b[0m: 255"
     ]
    }
   ],
   "source": [
    "import joblib\n",
    "sim = joblib.load(\"similarity.pkl\")"
   ]
  },
  {
   "cell_type": "code",
   "execution_count": 15,
   "metadata": {},
   "outputs": [
    {
     "ename": "NameError",
     "evalue": "name 'sim' is not defined",
     "output_type": "error",
     "traceback": [
      "\u001b[1;31m---------------------------------------------------------------------------\u001b[0m",
      "\u001b[1;31mNameError\u001b[0m                                 Traceback (most recent call last)",
      "\u001b[1;32m~\\AppData\\Local\\Temp/ipykernel_18024/593303790.py\u001b[0m in \u001b[0;36m<module>\u001b[1;34m\u001b[0m\n\u001b[1;32m----> 1\u001b[1;33m \u001b[0mrecommend\u001b[0m\u001b[1;33m(\u001b[0m\u001b[1;36m101515\u001b[0m\u001b[1;33m)\u001b[0m\u001b[1;33m\u001b[0m\u001b[1;33m\u001b[0m\u001b[0m\n\u001b[0m",
      "\u001b[1;32m~\\AppData\\Local\\Temp/ipykernel_18024/423250457.py\u001b[0m in \u001b[0;36mrecommend\u001b[1;34m(index)\u001b[0m\n\u001b[0;32m      2\u001b[0m     \u001b[0mind\u001b[0m \u001b[1;33m=\u001b[0m \u001b[0mdf\u001b[0m\u001b[1;33m[\u001b[0m\u001b[0mdf\u001b[0m\u001b[1;33m[\u001b[0m\u001b[1;34m'index'\u001b[0m\u001b[1;33m]\u001b[0m \u001b[1;33m==\u001b[0m \u001b[0mindex\u001b[0m\u001b[1;33m]\u001b[0m\u001b[1;33m.\u001b[0m\u001b[0mindex\u001b[0m\u001b[1;33m[\u001b[0m\u001b[1;36m0\u001b[0m\u001b[1;33m]\u001b[0m\u001b[1;33m\u001b[0m\u001b[1;33m\u001b[0m\u001b[0m\n\u001b[0;32m      3\u001b[0m     distances = sorted(\n\u001b[1;32m----> 4\u001b[1;33m         list(enumerate(sim[ind])), reverse=True, key=lambda x: x[1])\n\u001b[0m\u001b[0;32m      5\u001b[0m     \u001b[0mrec\u001b[0m \u001b[1;33m=\u001b[0m \u001b[1;33m[\u001b[0m\u001b[0mdf\u001b[0m\u001b[1;33m.\u001b[0m\u001b[0miloc\u001b[0m\u001b[1;33m[\u001b[0m\u001b[0mi\u001b[0m\u001b[1;33m[\u001b[0m\u001b[1;36m0\u001b[0m\u001b[1;33m]\u001b[0m\u001b[1;33m]\u001b[0m\u001b[1;33m[\u001b[0m\u001b[1;34m'index'\u001b[0m\u001b[1;33m]\u001b[0m \u001b[1;32mfor\u001b[0m \u001b[0mi\u001b[0m \u001b[1;32min\u001b[0m \u001b[0mdistances\u001b[0m\u001b[1;33m[\u001b[0m\u001b[1;36m1\u001b[0m\u001b[1;33m:\u001b[0m\u001b[1;36m11\u001b[0m\u001b[1;33m]\u001b[0m\u001b[1;33m]\u001b[0m\u001b[1;33m\u001b[0m\u001b[1;33m\u001b[0m\u001b[0m\n\u001b[0;32m      6\u001b[0m     \u001b[1;32mreturn\u001b[0m \u001b[0mrec\u001b[0m\u001b[1;33m\u001b[0m\u001b[1;33m\u001b[0m\u001b[0m\n",
      "\u001b[1;31mNameError\u001b[0m: name 'sim' is not defined"
     ]
    }
   ],
   "source": [
    "recommend(101515)"
   ]
  },
  {
   "cell_type": "code",
   "execution_count": null,
   "metadata": {},
   "outputs": [],
   "source": []
  }
 ],
 "metadata": {
  "kernelspec": {
   "display_name": "Python 3",
   "language": "python",
   "name": "python3"
  },
  "language_info": {
   "codemirror_mode": {
    "name": "ipython",
    "version": 3
   },
   "file_extension": ".py",
   "mimetype": "text/x-python",
   "name": "python",
   "nbconvert_exporter": "python",
   "pygments_lexer": "ipython3",
   "version": "3.11.0 (main, Oct 24 2022, 18:26:48) [MSC v.1933 64 bit (AMD64)]"
  },
  "vscode": {
   "interpreter": {
    "hash": "c261aea317cc0286b3b3261fbba9abdec21eaa57589985bb7a274bf54d6cc0a7"
   }
  }
 },
 "nbformat": 4,
 "nbformat_minor": 4
}
